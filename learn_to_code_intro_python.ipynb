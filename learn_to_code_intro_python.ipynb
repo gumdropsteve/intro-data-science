{
  "nbformat": 4,
  "nbformat_minor": 0,
  "metadata": {
    "colab": {
      "name": "learn_to_code_intro_python.ipynb",
      "provenance": [],
      "collapsed_sections": [],
      "include_colab_link": true
    },
    "kernelspec": {
      "name": "python3",
      "display_name": "Python 3"
    }
  },
  "cells": [
    {
      "cell_type": "markdown",
      "metadata": {
        "id": "view-in-github",
        "colab_type": "text"
      },
      "source": [
        "<a href=\"https://colab.research.google.com/github/gumdropsteve/intro-data-science/blob/master/learn_to_code_intro_python.ipynb\" target=\"_parent\"><img src=\"https://colab.research.google.com/assets/colab-badge.svg\" alt=\"Open In Colab\"/></a>"
      ]
    },
    {
      "cell_type": "markdown",
      "metadata": {
        "id": "kyQMUuU3sEpm",
        "colab_type": "text"
      },
      "source": [
        "# Learn to Code: Introduction to Python\n",
        "\n",
        "Brought to you by Galvanize. Learn more about the way we teach at [galvanize.com](http://galvanize.com).\n",
        "\n",
        "\n",
        "Learn more Python and much more with Galvanize Data Science Premium Prep! Currently free if you sign up now! [http://bit.ly/2u0cahU](http://bit.ly/2u0cahU)"
      ]
    },
    {
      "cell_type": "markdown",
      "metadata": {
        "id": "gQPACcbOUP0p",
        "colab_type": "text"
      },
      "source": [
        "### Comments"
      ]
    },
    {
      "cell_type": "code",
      "metadata": {
        "id": "c3ioanX3UTV7",
        "colab_type": "code",
        "colab": {}
      },
      "source": [
        "# This is a comment. It will not do anything as code\n",
        "# But it is super useful to document what your code is doing!"
      ],
      "execution_count": 0,
      "outputs": []
    },
    {
      "cell_type": "markdown",
      "metadata": {
        "id": "kqv7z30_Tjfc",
        "colab_type": "text"
      },
      "source": [
        "### Printing"
      ]
    },
    {
      "cell_type": "code",
      "metadata": {
        "id": "mQzqQ7RxTAbE",
        "colab_type": "code",
        "outputId": "fcc362f9-5894-443f-f47a-2cddb19f9197",
        "colab": {
          "base_uri": "https://localhost:8080/",
          "height": 34
        }
      },
      "source": [
        "# Printing an output in python\n",
        "\n",
        "print(\"Hello, Winston\")"
      ],
      "execution_count": 1,
      "outputs": [
        {
          "output_type": "stream",
          "text": [
            "Hello, Winston\n"
          ],
          "name": "stdout"
        }
      ]
    },
    {
      "cell_type": "markdown",
      "metadata": {
        "id": "oxwgisrITuSN",
        "colab_type": "text"
      },
      "source": [
        "### Variables\n",
        "\n",
        "Variables are a way to store information. This is super useful! You can then receive or update the variable in your program. You'll see this later!\n",
        "\n",
        "Think of it as naming a piece of data.\n",
        "\n",
        "its common in programming languages to have a keyword before the variable such as var or int, but python does not need this."
      ]
    },
    {
      "cell_type": "code",
      "metadata": {
        "id": "zBapGTEQTwTz",
        "colab_type": "code",
        "outputId": "badd3284-a43d-4a27-d1c0-d7bd4c51165a",
        "colab": {
          "base_uri": "https://localhost:8080/",
          "height": 52
        }
      },
      "source": [
        "twitter = \"@winstonrobson_\"\n",
        "score = 0\n",
        "\n",
        "print(score)\n",
        "print(twitter)"
      ],
      "execution_count": 2,
      "outputs": [
        {
          "output_type": "stream",
          "text": [
            "0\n",
            "@winstonrobson_\n"
          ],
          "name": "stdout"
        }
      ]
    },
    {
      "cell_type": "markdown",
      "metadata": {
        "id": "3EG06J0GUC15",
        "colab_type": "text"
      },
      "source": [
        "#### Challenge:\n",
        "Create a variable called name and assign it your name. Use the print() function to print out the variable value."
      ]
    },
    {
      "cell_type": "code",
      "metadata": {
        "id": "dJdbUcChUE1g",
        "colab_type": "code",
        "outputId": "b0ff645f-da9f-4b10-fa6c-6eb1518c357a",
        "colab": {
          "base_uri": "https://localhost:8080/",
          "height": 35
        }
      },
      "source": [
        "# Write you Code Here!\n",
        "name = \"San Francisco\"\n",
        "print (name)"
      ],
      "execution_count": 0,
      "outputs": [
        {
          "output_type": "stream",
          "text": [
            "San Francisco\n"
          ],
          "name": "stdout"
        }
      ]
    },
    {
      "cell_type": "markdown",
      "metadata": {
        "id": "HnYboIFeruCs",
        "colab_type": "text"
      },
      "source": [
        "## Interact with users\n",
        "\n",
        "Getting input from the command line can be useful.\n",
        "\n",
        "To do that we will use the `input` function. And we want to assign that input to a variable.\n",
        "\n",
        "`guess = input(\"enter guess\")`\n",
        "\n",
        "Print will output text to the terminal\n",
        "\n",
        "```\n",
        "guess = input(\"enter guess: \")\n",
        "print(\"Your guess was {}\".format(guess))\n",
        "```\n",
        "\n"
      ]
    },
    {
      "cell_type": "code",
      "metadata": {
        "id": "ne6TgdETrwZo",
        "colab_type": "code",
        "outputId": "e019963d-4722-4d17-c451-82a2ad77f925",
        "colab": {
          "base_uri": "https://localhost:8080/",
          "height": 52
        }
      },
      "source": [
        "input(\"What is your name? \")"
      ],
      "execution_count": 3,
      "outputs": [
        {
          "output_type": "stream",
          "text": [
            "What is your name? Winston\n"
          ],
          "name": "stdout"
        },
        {
          "output_type": "execute_result",
          "data": {
            "text/plain": [
              "'Winston'"
            ]
          },
          "metadata": {
            "tags": []
          },
          "execution_count": 3
        }
      ]
    },
    {
      "cell_type": "markdown",
      "metadata": {
        "colab_type": "text",
        "id": "X0nSfeB2uJJP"
      },
      "source": [
        "---\n",
        "### Challenge:\n",
        "\n",
        "Create a variable called `name` and ask a user for their name using the `input` function.\n",
        "\n",
        "Print out the name."
      ]
    },
    {
      "cell_type": "code",
      "metadata": {
        "id": "PxFtcjU9r0AW",
        "colab_type": "code",
        "outputId": "e50cb5cb-e32e-4604-dc85-9bba2a548409",
        "colab": {
          "base_uri": "https://localhost:8080/",
          "height": 52
        }
      },
      "source": [
        "name = input(\"I'm looking for some input... \")\n",
        "print(name)\n"
      ],
      "execution_count": 4,
      "outputs": [
        {
          "output_type": "stream",
          "text": [
            "I'm looking for some input... Winston\n",
            "Winston\n"
          ],
          "name": "stdout"
        }
      ]
    },
    {
      "cell_type": "markdown",
      "metadata": {
        "id": "9QKo9HPfU6Zj",
        "colab_type": "text"
      },
      "source": [
        "### Data Structures(Data Types):\n",
        "\n",
        "We're going to stick with the basics, so We wont be going over EVERY data type in Python, but you you can read a more comprehensive list [here](https://docs.python.org/3/library/stdtypes.html#dict).  \n",
        "\n",
        "Feel free to try these different data types out in your code!"
      ]
    },
    {
      "cell_type": "markdown",
      "metadata": {
        "id": "OsZZEqV2VlY6",
        "colab_type": "text"
      },
      "source": [
        "#### Numbers:\n",
        "\n",
        "Numbers are written just like you would think. Just the number! No quotes or symbols to worry about. If you do put quotes around a number it will become a string (see next)\n",
        "\n",
        "`25` `100`\n",
        "\n",
        "Multiple, Add, Divide, Compare, remainder\n",
        "\n",
        "- `5 * 5` | output: 25\n",
        "- `5 + 5` | output: 10\n",
        "- `8 / 2` | output: 4\n",
        "- `8 > 2` | output: true\n",
        "- `8 % 8` | output: 0 \n"
      ]
    },
    {
      "cell_type": "code",
      "metadata": {
        "id": "t6OLdoUSVNJw",
        "colab_type": "code",
        "outputId": "3dc25d6a-5ce2-49a9-b4d1-15e04314bc22",
        "colab": {
          "base_uri": "https://localhost:8080/",
          "height": 109
        }
      },
      "source": [
        "print(5 * 5)\n",
        "print(5 + 5)\n",
        "print(5/2)\n",
        "print(8 > 2)\n",
        "print(8 % 8)"
      ],
      "execution_count": 0,
      "outputs": [
        {
          "output_type": "stream",
          "text": [
            "25\n",
            "10\n",
            "2.5\n",
            "True\n",
            "0\n"
          ],
          "name": "stdout"
        }
      ]
    },
    {
      "cell_type": "markdown",
      "metadata": {
        "id": "pwE9BL9hV9KY",
        "colab_type": "text"
      },
      "source": [
        "#### Strings:\n",
        "Strings can be a collection of letters, symbols and/or numbers. They are made by surrounding the content with quotation marks.\n",
        "\n",
        "`\"Hello, World.\"`\n",
        "\n",
        "`\"CrAzy Random String 987879896jvdjvda &&(&(@*(*\"`\n",
        "\n",
        "\n"
      ]
    },
    {
      "cell_type": "code",
      "metadata": {
        "id": "kLDsf4f7V9jo",
        "colab_type": "code",
        "outputId": "3a7d615b-b675-447d-8bfc-95fae79298bc",
        "colab": {
          "base_uri": "https://localhost:8080/",
          "height": 72
        }
      },
      "source": [
        "# Three ways of defining a string. \n",
        "# make sure you begin and end with same quotation set\n",
        "\n",
        "singlequote = 'A string in Single quotes!'\n",
        "doublequote = \"A string in Double quotes!\"\n",
        "triplequote = '''A string in ' \" Triple single quotes!'''\n",
        "\n",
        "print(singlequote)\n",
        "print(doublequote)\n",
        "print(triplequote)"
      ],
      "execution_count": 0,
      "outputs": [
        {
          "output_type": "stream",
          "text": [
            "A string in Single quotes!\n",
            "A string in Double quotes!\n",
            "A string in ' \" Triple single quotes!\n"
          ],
          "name": "stdout"
        }
      ]
    },
    {
      "cell_type": "code",
      "metadata": {
        "id": "NQPL2kGAXtqM",
        "colab_type": "code",
        "outputId": "5ef9c504-afd5-43e3-abdc-3e02abdca949",
        "colab": {
          "base_uri": "https://localhost:8080/",
          "height": 35
        }
      },
      "source": [
        "\"\"# If you're unsure what data will be in your string\n",
        "# Triple quotes is the safest to use\n",
        "# It will prevent a single or double quotation mark breaking the string\n",
        "\n",
        "triplesafe = '''A string ' in \" Triple single quotes!'''\n",
        "print(triplesafe)"
      ],
      "execution_count": 0,
      "outputs": [
        {
          "output_type": "stream",
          "text": [
            "A string ' in \" Triple single quotes!\n"
          ],
          "name": "stdout"
        }
      ]
    },
    {
      "cell_type": "code",
      "metadata": {
        "id": "oGM_4s3pXDbo",
        "colab_type": "code",
        "outputId": "395299a6-5f59-4ee4-f27e-73254773c359",
        "colab": {
          "base_uri": "https://localhost:8080/",
          "height": 34
        }
      },
      "source": [
        "# Can we add strings together? Try it out!\n",
        "print(singlequote + doublequote)"
      ],
      "execution_count": 0,
      "outputs": [
        {
          "output_type": "stream",
          "text": [
            "A string in Single quotes!A string in Double quotes!\n"
          ],
          "name": "stdout"
        }
      ]
    },
    {
      "cell_type": "markdown",
      "metadata": {
        "id": "b00_QaTCYGqq",
        "colab_type": "text"
      },
      "source": [
        "##### Variables in strings\n",
        "\n",
        "Often we will want to add in variables to a string. \n",
        "\n",
        "Imagine having someones name, age, etc... populate into a string depending on the user.\n",
        "\n",
        "As you'll see below there are several ways of doing this!"
      ]
    },
    {
      "cell_type": "code",
      "metadata": {
        "id": "boBuZPDqYb-S",
        "colab_type": "code",
        "colab": {}
      },
      "source": [
        "# Lets create some variables to work with\n",
        "# Feel Free to change them or create your own!\n",
        "\n",
        "name = \"Winston\"\n",
        "city = \"San Francisco\"\n",
        "career = \"Programmer\"\n",
        "age = 21\n"
      ],
      "execution_count": 0,
      "outputs": []
    },
    {
      "cell_type": "markdown",
      "metadata": {
        "id": "4zg8AYqCarfs",
        "colab_type": "text"
      },
      "source": [
        "##### Concatenation\n",
        "\n",
        "You can add variables into string by breaking up the string into bits and adding a varible in between them. \n",
        "\n",
        "This gets pretty messy really fast. Its harder to change the sentence in the future, you have to add spaces at teh begining or or ends of strings. You have to convert numbers into strings if you want to use them."
      ]
    },
    {
      "cell_type": "code",
      "metadata": {
        "id": "pPDPmu5hZCNZ",
        "colab_type": "code",
        "outputId": "4836b2d5-a30f-4077-9610-2dce18b5c046",
        "colab": {
          "base_uri": "https://localhost:8080/",
          "height": 34
        }
      },
      "source": [
        "\n",
        "# concatenation \n",
        "concatstring =  \"Hello, my name is \" + name + \". I am \" + career + \" in \" + city + \". I am \" + str(age)+ \" years old.\"\n",
        "\n",
        "print(concatstring)\n",
        "\n"
      ],
      "execution_count": 6,
      "outputs": [
        {
          "output_type": "stream",
          "text": [
            "Hello, my name is Winston. I am Programmer in San Francisco. I am 21 years old.\n"
          ],
          "name": "stdout"
        }
      ]
    },
    {
      "cell_type": "code",
      "metadata": {
        "id": "zOk20gPZYjhj",
        "colab_type": "code",
        "outputId": "3856212f-f14a-432e-d535-d9a55fb5bed5",
        "colab": {
          "base_uri": "https://localhost:8080/",
          "height": 34
        }
      },
      "source": [
        "# More common way\n",
        "placeholderstring =  \"Hello, my name is {}. I am a {} in {}. I am {} years old.\".format(name, career, city, age)\n",
        "\n",
        "print(placeholderstring)\n",
        "\n"
      ],
      "execution_count": 7,
      "outputs": [
        {
          "output_type": "stream",
          "text": [
            "Hello, my name is Winston. I am a Programmer in San Francisco. I am 21 years old.\n"
          ],
          "name": "stdout"
        }
      ]
    },
    {
      "cell_type": "code",
      "metadata": {
        "id": "6pQbnGaaZ5UN",
        "colab_type": "code",
        "outputId": "14f3ad53-a4b3-41a8-fdb9-7ed2b7f2c035",
        "colab": {
          "base_uri": "https://localhost:8080/",
          "height": 34
        }
      },
      "source": [
        "# you can specify which variable is used where\n",
        "placeholderorder =  \"Hello, my name is {0}. I am a {1} in {2}. I am {3} years old.\".format(name, career, city, age)\n",
        "\n",
        "print(placeholderorder)"
      ],
      "execution_count": 8,
      "outputs": [
        {
          "output_type": "stream",
          "text": [
            "Hello, my name is Winston. I am a Programmer in San Francisco. I am 21 years old.\n"
          ],
          "name": "stdout"
        }
      ]
    },
    {
      "cell_type": "code",
      "metadata": {
        "id": "qTRoiH9sZ5dZ",
        "colab_type": "code",
        "outputId": "a375b0cf-1d57-46db-8227-2806c09a0e9b",
        "colab": {
          "base_uri": "https://localhost:8080/",
          "height": 34
        }
      },
      "source": [
        "# Fstring\n",
        "# My favorite way!\n",
        "\n",
        "fstring = f\"Hello, my name is {name}. I am a {career} in {city}. I am {age} years old.\"\n",
        "\n",
        "print(fstring)"
      ],
      "execution_count": 9,
      "outputs": [
        {
          "output_type": "stream",
          "text": [
            "Hello, my name is Winston. I am a Programmer in San Francisco. I am 21 years old.\n"
          ],
          "name": "stdout"
        }
      ]
    },
    {
      "cell_type": "markdown",
      "metadata": {
        "id": "kigsnxLHr7yk",
        "colab_type": "text"
      },
      "source": [
        "---\n",
        "### Challenge 1:\n",
        "\n",
        "Using the `input()` function ask a user for there name. Then print out a sentence using the name. \n"
      ]
    },
    {
      "cell_type": "code",
      "metadata": {
        "id": "PLz0hhfmxVOC",
        "colab_type": "code",
        "outputId": "5ff25283-044a-4ebe-d404-3f2461eba1df",
        "colab": {
          "base_uri": "https://localhost:8080/",
          "height": 52
        }
      },
      "source": [
        "name = input(\"Enter your name...\")\n",
        "string = f\"Hello, my name is {name}.\"\n",
        "\n",
        "print(string)"
      ],
      "execution_count": 10,
      "outputs": [
        {
          "output_type": "stream",
          "text": [
            "Enter your name...Winston\n",
            "Hello, my name is Winston.\n"
          ],
          "name": "stdout"
        }
      ]
    },
    {
      "cell_type": "markdown",
      "metadata": {
        "id": "F9SMiWYwdhna",
        "colab_type": "text"
      },
      "source": [
        "#### Booleans:\n",
        "You can think of Booleans as yes(true) and no(false)\n",
        "\n",
        "`True` `False`\n",
        "\n",
        "We'll go into how to use these in a little bit. For now just remember they exist!\n"
      ]
    },
    {
      "cell_type": "markdown",
      "metadata": {
        "id": "HoBPgHysdl5_",
        "colab_type": "text"
      },
      "source": [
        "#### Lists (Arrays)\n",
        "\n",
        "Often used to store a list of values."
      ]
    },
    {
      "cell_type": "code",
      "metadata": {
        "id": "DccibF3vdm4i",
        "colab_type": "code",
        "outputId": "032954b9-75f6-4051-f9ce-8ead3ad37570",
        "colab": {
          "base_uri": "https://localhost:8080/",
          "height": 35
        }
      },
      "source": [
        "tvshows = ['West World','The Office', 'Game of Thrones']\n",
        "print(tvshows)"
      ],
      "execution_count": 0,
      "outputs": [
        {
          "output_type": "stream",
          "text": [
            "['West World', 'The Office', 'Game of Thrones']\n"
          ],
          "name": "stdout"
        }
      ]
    },
    {
      "cell_type": "code",
      "metadata": {
        "id": "7ClMzUOydseB",
        "colab_type": "code",
        "outputId": "018aa1c4-c445-4cde-bdac-8dd86e3f1a26",
        "colab": {
          "base_uri": "https://localhost:8080/",
          "height": 194
        }
      },
      "source": [
        "# print single item. Index starts at zero\n",
        "print(tvshows[3])"
      ],
      "execution_count": 0,
      "outputs": [
        {
          "output_type": "error",
          "ename": "IndexError",
          "evalue": "ignored",
          "traceback": [
            "\u001b[0;31m---------------------------------------------------------------------------\u001b[0m",
            "\u001b[0;31mIndexError\u001b[0m                                Traceback (most recent call last)",
            "\u001b[0;32m<ipython-input-157-2e9d7e6741d3>\u001b[0m in \u001b[0;36m<module>\u001b[0;34m()\u001b[0m\n\u001b[0;32m----> 1\u001b[0;31m \u001b[0mprint\u001b[0m\u001b[0;34m(\u001b[0m\u001b[0mtvshows\u001b[0m\u001b[0;34m[\u001b[0m\u001b[0;36m3\u001b[0m\u001b[0;34m]\u001b[0m\u001b[0;34m)\u001b[0m\u001b[0;34m\u001b[0m\u001b[0;34m\u001b[0m\u001b[0m\n\u001b[0m",
            "\u001b[0;31mIndexError\u001b[0m: list index out of range"
          ]
        }
      ]
    },
    {
      "cell_type": "code",
      "metadata": {
        "id": "gVZMIy2bdyEl",
        "colab_type": "code",
        "outputId": "406b3c03-845f-4d9b-b421-8652ad0152e2",
        "colab": {
          "base_uri": "https://localhost:8080/",
          "height": 72
        }
      },
      "source": [
        "# Update an item in an array\n",
        "print(tvshows[0])\n",
        "tvshows[0] = \"Breaking Bad\"\n",
        "print(tvshows[0])\n",
        "print(tvshows)"
      ],
      "execution_count": 0,
      "outputs": [
        {
          "output_type": "stream",
          "text": [
            "Breaking Bad\n",
            "Breaking Bad\n",
            "['Breaking Bad', 'The Office', 'Game of Thrones']\n"
          ],
          "name": "stdout"
        }
      ]
    },
    {
      "cell_type": "code",
      "metadata": {
        "id": "nAexCOzad2uw",
        "colab_type": "code",
        "outputId": "f5143bde-e09a-4ba4-e59d-39ccc9da9f32",
        "colab": {
          "base_uri": "https://localhost:8080/",
          "height": 55
        }
      },
      "source": [
        "# Add to an array\n",
        "tvshows.append(\"Breaking Bad Movie\" \" Hero Movie\")\n",
        "print(tvshows)"
      ],
      "execution_count": 0,
      "outputs": [
        {
          "output_type": "stream",
          "text": [
            "['Breaking Bad', 'The Office', 'Game of Thrones', 'Breaking Bad Movie', 'Breaking Bad MovieHero Movie', 'Breaking Bad Movie Hero Movie']\n"
          ],
          "name": "stdout"
        }
      ]
    },
    {
      "cell_type": "code",
      "metadata": {
        "id": "hXziRupfd60o",
        "colab_type": "code",
        "outputId": "57a804aa-eee2-497c-c5c8-b3cb3ffd81f2",
        "colab": {
          "base_uri": "https://localhost:8080/",
          "height": 212
        }
      },
      "source": [
        "# Remove from an array\n",
        "tvshows.remove(\"Game of Thrones\")\n",
        "print(tvshows)"
      ],
      "execution_count": 0,
      "outputs": [
        {
          "output_type": "error",
          "ename": "ValueError",
          "evalue": "ignored",
          "traceback": [
            "\u001b[0;31m---------------------------------------------------------------------------\u001b[0m",
            "\u001b[0;31mValueError\u001b[0m                                Traceback (most recent call last)",
            "\u001b[0;32m<ipython-input-166-ba25ec638ed5>\u001b[0m in \u001b[0;36m<module>\u001b[0;34m()\u001b[0m\n\u001b[0;32m----> 1\u001b[0;31m \u001b[0mtvshows\u001b[0m\u001b[0;34m.\u001b[0m\u001b[0mremove\u001b[0m\u001b[0;34m(\u001b[0m\u001b[0;34m\"Game of Thrones\"\u001b[0m\u001b[0;34m)\u001b[0m\u001b[0;34m\u001b[0m\u001b[0;34m\u001b[0m\u001b[0m\n\u001b[0m\u001b[1;32m      2\u001b[0m \u001b[0mprint\u001b[0m\u001b[0;34m(\u001b[0m\u001b[0mtvshows\u001b[0m\u001b[0;34m)\u001b[0m\u001b[0;34m\u001b[0m\u001b[0;34m\u001b[0m\u001b[0m\n",
            "\u001b[0;31mValueError\u001b[0m: list.remove(x): x not in list"
          ]
        }
      ]
    },
    {
      "cell_type": "code",
      "metadata": {
        "id": "Tq78SJCDd-_j",
        "colab_type": "code",
        "outputId": "9f693f41-fabe-405f-9e1e-9268ce827c53",
        "colab": {
          "base_uri": "https://localhost:8080/",
          "height": 55
        }
      },
      "source": [
        "# Or if you want to get rid of a certain part of the list\n",
        "\n",
        "tvshows.remove(tvshows[1])\n",
        "print(tvshows)"
      ],
      "execution_count": 0,
      "outputs": [
        {
          "output_type": "stream",
          "text": [
            "['Breaking Bad', 'Breaking Bad Movie', 'Breaking Bad MovieHero Movie', 'Breaking Bad Movie Hero Movie']\n"
          ],
          "name": "stdout"
        }
      ]
    },
    {
      "cell_type": "markdown",
      "metadata": {
        "id": "w5WHxKRIeqBg",
        "colab_type": "text"
      },
      "source": [
        "#### Dictionary (Dict)\n",
        "\n",
        "Dictionaries can also be used to store values, but they are indexed. \n",
        "\n"
      ]
    },
    {
      "cell_type": "code",
      "metadata": {
        "id": "9D7nhJ6beqTa",
        "colab_type": "code",
        "outputId": "9dc55e3c-b77e-4f75-b455-44fbfcbcedf0",
        "colab": {
          "base_uri": "https://localhost:8080/",
          "height": 35
        }
      },
      "source": [
        "person =\t{\n",
        "  \"name\": \"Bob\",\n",
        "  \"age\": 50,\n",
        "  \"occupation\": 'programmer'\n",
        "}\n",
        "# print(person)\n",
        "print(person['age'])"
      ],
      "execution_count": 0,
      "outputs": [
        {
          "output_type": "stream",
          "text": [
            "50\n"
          ],
          "name": "stdout"
        }
      ]
    },
    {
      "cell_type": "code",
      "metadata": {
        "id": "S1tgpL1feycl",
        "colab_type": "code",
        "outputId": "bcec67a1-ec16-47f7-dd3f-30963a99634d",
        "colab": {
          "base_uri": "https://localhost:8080/",
          "height": 55
        }
      },
      "source": [
        "# add \n",
        "person['name'] = 'San Francisco'  \n",
        "print(person)"
      ],
      "execution_count": 0,
      "outputs": [
        {
          "output_type": "stream",
          "text": [
            "{'name': 'San Francisco', 'occupation': 'programmer', 'city': 'San Francisco'}\n"
          ],
          "name": "stdout"
        }
      ]
    },
    {
      "cell_type": "code",
      "metadata": {
        "id": "_fy1mRf2e1xR",
        "colab_type": "code",
        "outputId": "870f2ab2-9ddc-4a0f-9928-d22b218a1f12",
        "colab": {
          "base_uri": "https://localhost:8080/",
          "height": 212
        }
      },
      "source": [
        "# Remove\n",
        "del person['age']\n",
        "print(person)"
      ],
      "execution_count": 0,
      "outputs": [
        {
          "output_type": "error",
          "ename": "KeyError",
          "evalue": "ignored",
          "traceback": [
            "\u001b[0;31m---------------------------------------------------------------------------\u001b[0m",
            "\u001b[0;31mKeyError\u001b[0m                                  Traceback (most recent call last)",
            "\u001b[0;32m<ipython-input-174-7d8176c5d9ee>\u001b[0m in \u001b[0;36m<module>\u001b[0;34m()\u001b[0m\n\u001b[0;32m----> 1\u001b[0;31m \u001b[0;32mdel\u001b[0m \u001b[0mperson\u001b[0m\u001b[0;34m[\u001b[0m\u001b[0;34m'age'\u001b[0m\u001b[0;34m]\u001b[0m\u001b[0;34m\u001b[0m\u001b[0;34m\u001b[0m\u001b[0m\n\u001b[0m\u001b[1;32m      2\u001b[0m \u001b[0mprint\u001b[0m\u001b[0;34m(\u001b[0m\u001b[0mperson\u001b[0m\u001b[0;34m)\u001b[0m\u001b[0;34m\u001b[0m\u001b[0;34m\u001b[0m\u001b[0m\n",
            "\u001b[0;31mKeyError\u001b[0m: 'age'"
          ]
        }
      ]
    },
    {
      "cell_type": "markdown",
      "metadata": {
        "id": "qV_8vpIGe6FX",
        "colab_type": "text"
      },
      "source": [
        "read more about python dictionaries[here](https://www.w3schools.com/python/python_dictionaries.asp)."
      ]
    },
    {
      "cell_type": "markdown",
      "metadata": {
        "id": "JY8vHbArgYl9",
        "colab_type": "text"
      },
      "source": [
        "## Comparison Operators:\n",
        "Comparison Operators are used quite frequently in programming. Its a great way to compare and use data.\n",
        "\n",
        "Again we won't cover ALL of the comparison operators in this workshop, but you can see a full list of them [here](https://docs.python.org/3/library/stdtypes.html#comparisons)\n",
        "\n",
        "- `==` Equal\n",
        "- `!=` Not Equal\n",
        "- `>` Greater Than\n",
        "- `>=` Greater Than or Equal\n",
        "- `<` Less Than\n",
        "- `<=` Less Than or Equal\n",
        "\n",
        "Example:\n",
        "\n",
        "`current_score >= highest_score`\n",
        "This would return a boolean value. Depending on the values of these variables this would return either `True` or `False`. Try it in your console using numbers instead of variables!"
      ]
    },
    {
      "cell_type": "code",
      "metadata": {
        "id": "jNp-me_Jgd0C",
        "colab_type": "code",
        "outputId": "762eb5d5-0f0c-401c-82fc-9f0251d062a7",
        "colab": {
          "base_uri": "https://localhost:8080/",
          "height": 127
        }
      },
      "source": [
        "print(8 == 8)\n",
        "print(8 != 8)\n",
        "print(8 > 2)\n",
        "print(8 >= 8)\n",
        "print(8 < 12)\n",
        "print(8 <= 8)"
      ],
      "execution_count": 0,
      "outputs": [
        {
          "output_type": "stream",
          "text": [
            "True\n",
            "False\n",
            "True\n",
            "True\n",
            "True\n",
            "True\n"
          ],
          "name": "stdout"
        }
      ]
    },
    {
      "cell_type": "markdown",
      "metadata": {
        "id": "iCT4TXkQgk0e",
        "colab_type": "text"
      },
      "source": [
        "## Conditionals\n",
        "\n",
        "When writing a program you'll often want to check if data meets a certain condition or not. We can use conditionals to make decision about our data and create different outcomes\n",
        "\n",
        " In javascript you'll often use the `if` statement. This may be followed by `else if` or `else` depending on how many conditions need to be checked.\n",
        "\n",
        "Example:\n",
        "\n",
        "```\n",
        " if guess == answer:\n",
        "      message = \"You Win!\"\n",
        "  elif guess < answer:\n",
        "      message = \"Your guess is too low!\"\n",
        "  elif guess > answer:\n",
        "      message = \"your guess is too high!\";\n",
        "  else:\n",
        "    message = \"I think you entered something wrong...\"\n",
        "\n",
        "```\n"
      ]
    },
    {
      "cell_type": "code",
      "metadata": {
        "id": "wSZF0X_-goXe",
        "colab_type": "code",
        "outputId": "0cdf17f0-8f22-452a-bf49-496ef5aae7f5",
        "colab": {
          "base_uri": "https://localhost:8080/",
          "height": 35
        }
      },
      "source": [
        "guess = 6\n",
        "answer = 5\n",
        "\n",
        "if guess == answer:\n",
        "  message = \"You Win!\"\n",
        "elif guess < answer:\n",
        "  message = \"Your guess is too low!\"\n",
        "elif guess > answer:\n",
        "  message = \"your guess is too high!\";\n",
        "else:\n",
        "    message = \"I think you entered something wrong...\"\n",
        "    \n",
        "print(message)"
      ],
      "execution_count": 0,
      "outputs": [
        {
          "output_type": "stream",
          "text": [
            "your guess is too high!\n"
          ],
          "name": "stdout"
        }
      ]
    },
    {
      "cell_type": "markdown",
      "metadata": {
        "id": "gtvb7euOgor_",
        "colab_type": "text"
      },
      "source": [
        "### Multiple Conditionals\n",
        "\n",
        "Use the keyword `and` or `or` between muliple conditionals. \n",
        "\n",
        "`or` if you want to run code when either condition is met\n",
        "\n",
        "`if i == 0 or i == 1:`\n",
        "\n",
        "`and` if you want to run the code when all conditions are met.\n",
        "\n",
        "`if i == 0 and x == 4:`\n"
      ]
    },
    {
      "cell_type": "code",
      "metadata": {
        "id": "8KB9x65wgpGL",
        "colab_type": "code",
        "colab": {}
      },
      "source": [
        "if guess == answer:\n",
        "  message = \"You Win!\""
      ],
      "execution_count": 0,
      "outputs": []
    },
    {
      "cell_type": "markdown",
      "metadata": {
        "id": "y2zxg_elgrl5",
        "colab_type": "text"
      },
      "source": [
        "### Challenge #2\n",
        "\n",
        "- make a variable with with a numerical value. \n",
        "- using the `if`, `elif`, and `else` make your program print something different depending on the value in your variable."
      ]
    },
    {
      "cell_type": "code",
      "metadata": {
        "id": "wzN-Pq_ByKtk",
        "colab_type": "code",
        "outputId": "12019dfb-88e5-4530-e8bd-f85fed9f94c4",
        "colab": {
          "base_uri": "https://localhost:8080/",
          "height": 34
        }
      },
      "source": [
        "num = 7\n",
        "if num == 7:\n",
        "  print(\"its 7!!\")\n",
        "elif num < 6:\n",
        "  print(\"hellollloooo less than 6\")\n",
        "else:\n",
        "  print(\"its high\")"
      ],
      "execution_count": 0,
      "outputs": [
        {
          "output_type": "stream",
          "text": [
            "its 7!!\n"
          ],
          "name": "stdout"
        }
      ]
    },
    {
      "cell_type": "markdown",
      "metadata": {
        "id": "UM_gFmEpg1Ub",
        "colab_type": "text"
      },
      "source": [
        "## Loops\n",
        "We're going to go over some of the basic loops in python, but yet again we're not going to cover everything, so you may want to read more about loops [here](https://www.learnpython.org/en/Loops).\n",
        "\n",
        "Loops are used when you want to repeat something. You can repeat the exact same thing, or change some variable and repeat the action again.\n",
        "\n",
        "the two common types of loops are `for` and `while`.\n",
        "`for` loops are often used to run a loop a specified amount of time.\n",
        "\n",
        "`while` loops are often used to run a loop indefinitely until certain criteria are met.\n",
        "\n"
      ]
    },
    {
      "cell_type": "markdown",
      "metadata": {
        "id": "H6uTW8BWhUbt",
        "colab_type": "text"
      },
      "source": [
        "For loops:"
      ]
    },
    {
      "cell_type": "code",
      "metadata": {
        "id": "WoAZtp2Lg4RI",
        "colab_type": "code",
        "outputId": "e99f5779-fbd7-4894-99c5-874618df56d2",
        "colab": {
          "base_uri": "https://localhost:8080/",
          "height": 87
        }
      },
      "source": [
        "#This `for` loop will run 5 times, and print out the value of `x` to the console. \n",
        "\n",
        "lis = [\"hello\", \"hi\"]\n",
        "\n",
        "for num in range(4):\n",
        "    print(num)"
      ],
      "execution_count": 0,
      "outputs": [
        {
          "output_type": "stream",
          "text": [
            "0\n",
            "1\n",
            "2\n",
            "3\n"
          ],
          "name": "stdout"
        }
      ]
    },
    {
      "cell_type": "markdown",
      "metadata": {
        "id": "cRRy74UxhApM",
        "colab_type": "text"
      },
      "source": [
        "For loops are often used to loop through variables containing lists and dicts to get the individual values stored in them. We'll look at this soon!"
      ]
    },
    {
      "cell_type": "markdown",
      "metadata": {
        "id": "yO_-BxeghLwg",
        "colab_type": "text"
      },
      "source": [
        "read more on for loops [here](https://www.w3schools.com/python/python_for_loops.asp)"
      ]
    },
    {
      "cell_type": "markdown",
      "metadata": {
        "id": "hgzxUhBshO4i",
        "colab_type": "text"
      },
      "source": [
        "**while loop**:"
      ]
    },
    {
      "cell_type": "code",
      "metadata": {
        "id": "J0u3jo0ShMI2",
        "colab_type": "code",
        "outputId": "ba6a6368-6505-4fdc-bafe-ca8e08f2115b",
        "colab": {
          "base_uri": "https://localhost:8080/",
          "height": 104
        }
      },
      "source": [
        "count = 1\n",
        "while count <= 5:\n",
        "    print(count)\n",
        "    count += 1  # This is the same as count = count + 1"
      ],
      "execution_count": 0,
      "outputs": [
        {
          "output_type": "stream",
          "text": [
            "1\n",
            "2\n",
            "3\n",
            "4\n",
            "5\n"
          ],
          "name": "stdout"
        }
      ]
    },
    {
      "cell_type": "markdown",
      "metadata": {
        "id": "GCwOE08Bhaxn",
        "colab_type": "text"
      },
      "source": [
        "read more on while loops [here](https://www.w3schools.com/python/python_while_loops.asp)"
      ]
    },
    {
      "cell_type": "markdown",
      "metadata": {
        "id": "n5vbjI_Vhe5j",
        "colab_type": "text"
      },
      "source": [
        "### Challenge #3\n",
        "[Fizzbuzz](https://en.wikipedia.org/wiki/Fizz_buzz) and variations of it is a popular interview question. \n",
        "\n",
        "\"From 1 to 100.\n",
        "\n",
        "For each multiple of 3, print \"Fizz\" instead of the number. \n",
        "\n",
        "For each multiple of 5, print \"Buzz\" instead of the number. \n",
        "\n",
        "For numbers which are multiples of both 3 and 5, print \"FizzBuzz\" instead of the number.\"\n",
        "\n",
        "Lets break it down and solve it together!\n"
      ]
    },
    {
      "cell_type": "code",
      "metadata": {
        "id": "6UY4wED-hbKM",
        "colab_type": "code",
        "colab": {}
      },
      "source": [
        "# Lets do fizzbuzz!\n",
        "# How should break down this problem and start?"
      ],
      "execution_count": 0,
      "outputs": []
    },
    {
      "cell_type": "code",
      "metadata": {
        "id": "28hwCAdXhlGG",
        "colab_type": "code",
        "outputId": "1a329c21-4b72-4e3f-c871-4caee6fca8a9",
        "colab": {
          "base_uri": "https://localhost:8080/",
          "height": 1000
        }
      },
      "source": [
        "for i in range(1,101):\n",
        "  if i%5 == 0 and i%3 == 0:\n",
        "    print(\"FizzBuzz\")\n",
        "  elif i%5 == 0:\n",
        "    print(\"Buzz\")\n",
        "  elif i%3 == 0:\n",
        "    print(\"Fizz\")\n",
        "  else:\n",
        "    print(i)\n",
        "    "
      ],
      "execution_count": 0,
      "outputs": [
        {
          "output_type": "stream",
          "text": [
            "1\n",
            "2\n",
            "Fizz\n",
            "4\n",
            "Buzz\n",
            "Fizz\n",
            "7\n",
            "8\n",
            "Fizz\n",
            "Buzz\n",
            "11\n",
            "Fizz\n",
            "13\n",
            "14\n",
            "FizzBuzz\n",
            "16\n",
            "17\n",
            "Fizz\n",
            "19\n",
            "Buzz\n",
            "Fizz\n",
            "22\n",
            "23\n",
            "Fizz\n",
            "Buzz\n",
            "26\n",
            "Fizz\n",
            "28\n",
            "29\n",
            "FizzBuzz\n",
            "31\n",
            "32\n",
            "Fizz\n",
            "34\n",
            "Buzz\n",
            "Fizz\n",
            "37\n",
            "38\n",
            "Fizz\n",
            "Buzz\n",
            "41\n",
            "Fizz\n",
            "43\n",
            "44\n",
            "FizzBuzz\n",
            "46\n",
            "47\n",
            "Fizz\n",
            "49\n",
            "Buzz\n",
            "Fizz\n",
            "52\n",
            "53\n",
            "Fizz\n",
            "Buzz\n",
            "56\n",
            "Fizz\n",
            "58\n",
            "59\n",
            "FizzBuzz\n",
            "61\n",
            "62\n",
            "Fizz\n",
            "64\n",
            "Buzz\n",
            "Fizz\n",
            "67\n",
            "68\n",
            "Fizz\n",
            "Buzz\n",
            "71\n",
            "Fizz\n",
            "73\n",
            "74\n",
            "FizzBuzz\n",
            "76\n",
            "77\n",
            "Fizz\n",
            "79\n",
            "Buzz\n",
            "Fizz\n",
            "82\n",
            "83\n",
            "Fizz\n",
            "Buzz\n",
            "86\n",
            "Fizz\n",
            "88\n",
            "89\n",
            "FizzBuzz\n",
            "91\n",
            "92\n",
            "Fizz\n",
            "94\n",
            "Buzz\n",
            "Fizz\n",
            "97\n",
            "98\n",
            "Fizz\n",
            "Buzz\n"
          ],
          "name": "stdout"
        }
      ]
    },
    {
      "cell_type": "markdown",
      "metadata": {
        "id": "FM4eh2phyxea",
        "colab_type": "text"
      },
      "source": [
        "### Answer Key"
      ]
    },
    {
      "cell_type": "markdown",
      "metadata": {
        "id": "johctgY4y5V2",
        "colab_type": "text"
      },
      "source": [
        "#### Challenge 1"
      ]
    },
    {
      "cell_type": "code",
      "metadata": {
        "id": "zFO2MNxZxBhJ",
        "colab_type": "code",
        "outputId": "8e626387-c71b-4a84-aec7-046d2c133774",
        "colab": {
          "base_uri": "https://localhost:8080/",
          "height": 35
        }
      },
      "source": [
        "name = input(\"name please...\")\n",
        "string = f\"Hello, my name is {name}.\"\n",
        "\n",
        "print(string)"
      ],
      "execution_count": 0,
      "outputs": [
        {
          "output_type": "stream",
          "text": [
            "Hello, my name is keenan.\n"
          ],
          "name": "stdout"
        }
      ]
    },
    {
      "cell_type": "markdown",
      "metadata": {
        "id": "BoemwfqRy9ig",
        "colab_type": "text"
      },
      "source": [
        "#### Challenge 2"
      ]
    },
    {
      "cell_type": "code",
      "metadata": {
        "id": "l5WpXz81xFJ8",
        "colab_type": "code",
        "colab": {}
      },
      "source": [
        "num = 1\n",
        "if num == 7:\n",
        "  print(\"its 7\")\n",
        "elif num < 6:\n",
        "  print(\"hellollloooo less than 6\")\n",
        "else:\n",
        "  print(\"its high\")"
      ],
      "execution_count": 0,
      "outputs": []
    },
    {
      "cell_type": "markdown",
      "metadata": {
        "id": "f4HWm8eSzBCW",
        "colab_type": "text"
      },
      "source": [
        "#### FizzBuzz Challenge"
      ]
    },
    {
      "cell_type": "code",
      "metadata": {
        "id": "9G6reeRYyail",
        "colab_type": "code",
        "colab": {}
      },
      "source": [
        "for i in range(1,101):\n",
        "  if i%5 == 0 and i%3 == 0:\n",
        "    print(\"FizzBuzz\")\n",
        "  elif i%5 == 0:\n",
        "    print(\"Buzz\")\n",
        "  elif i%3 == 0:\n",
        "    print(\"Fizz\")\n",
        "  else:\n",
        "    print(i)"
      ],
      "execution_count": 0,
      "outputs": []
    },
    {
      "cell_type": "markdown",
      "metadata": {
        "id": "tiD_VqIgwD85",
        "colab_type": "text"
      },
      "source": [
        "## [<< back to git repo >> ](https://github.com/gumdropsteve/intro-data-science)"
      ]
    },
    {
      "cell_type": "code",
      "metadata": {
        "id": "frPc_YDa20Ps",
        "colab_type": "code",
        "colab": {}
      },
      "source": [
        ""
      ],
      "execution_count": 0,
      "outputs": []
    }
  ]
}
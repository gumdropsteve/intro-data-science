{
  "nbformat": 4,
  "nbformat_minor": 0,
  "metadata": {
    "colab": {
      "name": "machine_learning_15oct2019.ipynb",
      "provenance": [],
      "collapsed_sections": []
    },
    "kernelspec": {
      "name": "python3",
      "display_name": "Python 3"
    },
    "accelerator": "GPU"
  },
  "cells": [
    {
      "cell_type": "markdown",
      "metadata": {
        "id": "5ceOE25ZsP2P",
        "colab_type": "text"
      },
      "source": [
        "# Get started\n",
        "\n",
        "Imoprt modules we'll need to get started\n",
        "\n",
        "\n",
        "\n",
        "[Requests](http://docs.python-requests.org/en/master/)\n",
        "\n",
        "[Beautiful soup](https://www.crummy.com/software/BeautifulSoup/)\n",
        "\n",
        "[Pandas](https://pandas.pydata.org/)\n",
        "\n",
        "[NLTK](https://www.nltk.org/)\n",
        "\n",
        "\n",
        "When you have time go read more about them from the links above!"
      ]
    },
    {
      "cell_type": "code",
      "metadata": {
        "id": "T0h77uEbEC1k",
        "colab_type": "code",
        "colab": {}
      },
      "source": [
        "# import request & beautiful soup\n",
        "# request is for getting content from a URL\n",
        "# beautiful soup is used to parse through the HTML we get from requests\n",
        "\n",
        "import requests\n",
        "from bs4 import BeautifulSoup"
      ],
      "execution_count": 0,
      "outputs": []
    },
    {
      "cell_type": "markdown",
      "metadata": {
        "id": "USL3jIIbvSXu",
        "colab_type": "text"
      },
      "source": [
        "Make a request to this page [sageelliott.com/scrape/](https://sageelliott.com/scrape/)\n",
        "\n",
        "This page has elements I made that will be good practice for web scraping\n"
      ]
    },
    {
      "cell_type": "code",
      "metadata": {
        "id": "fisiQTBZsWam",
        "colab_type": "code",
        "colab": {}
      },
      "source": [
        "# Make the request to a url\n",
        "# Assign it to a variable 'r'\n",
        "\n",
        "r = requests.get('https://sageelliott.com/scrape/')"
      ],
      "execution_count": 0,
      "outputs": []
    },
    {
      "cell_type": "code",
      "metadata": {
        "id": "kaDlHrIJvvzP",
        "colab_type": "code",
        "outputId": "4b6d9b5f-7dc5-4835-9a8e-4f2222309c56",
        "colab": {
          "base_uri": "https://localhost:8080/",
          "height": 54
        }
      },
      "source": [
        "# Lets look at what the request content looks like\n",
        "\n",
        "print(r.content)"
      ],
      "execution_count": 3,
      "outputs": [
        {
          "output_type": "stream",
          "text": [
            "b'<!DOCTYPE html>\\n<html>\\n\\n  <head>\\n  <meta charset=\"utf-8\">\\n  <meta http-equiv=\"X-UA-Compatible\" content=\"IE=edge\">\\n  <meta name=\"viewport\" content=\"width=device-width, initial-scale=1\">\\n\\n  <title>Web Scraping | Sage Elliott \\xf0\\x9f\\xa5\\x91</title>\\n  <meta name=\"description\" content=\"I make things.\">\\n\\n  <link rel=\"stylesheet\" href=\"/css/main.css\">\\n  <link rel=\"canonical\" href=\"http://sageelliott.com/scrape/\">\\n  <link rel=\"alternate\" type=\"application/rss+xml\" title=\"Sage Elliott \\xf0\\x9f\\xa5\\x91\" href=\"http://sageelliott.com/feed.xml\">\\n  <script src=\"https://code.jquery.com/jquery-2.1.3.min.js\"></script>\\n  <script src=\"/js/bootstrap.min.js\"></script>\\n  <script src=\"/js/script.js\"></script>\\n  <link rel=\"stylesheet\" href=\"/css/bootstrap.min.css\">\\n  <link rel=\"stylesheet\" href=\"/css/bootstrap-theme.min.css\">\\n  <link rel=\"stylesheet\" href=\"/css/style.css\">\\n  <link rel=\"stylesheet\" href=\"/css/responsive.css\">\\n  <link href=\\'https://fonts.googleapis.com/css?family=Pathway+Gothic+One|Alegreya:400italic,700italic,400,700|Alegreya+SC\\' rel=\\'stylesheet\\' type=\\'text/css\\'>\\n  <!-- Global site tag (gtag.js) - Google Analytics -->\\n  <script async src=\"https://www.googletagmanager.com/gtag/js?id=UA-121052385-1\"></script>\\n  <script>\\n    window.dataLayer = window.dataLayer || [];\\n    function gtag(){dataLayer.push(arguments);}\\n    gtag(\\'js\\', new Date());\\n\\n    gtag(\\'config\\', \\'UA-121052385-1\\');\\n  </script>\\n</head>\\n  <link rel=\"icon\" type=\"image/png\" href=\"/img/logoblack.png\">\\n\\n  <body data-spy=\"scroll\", data-target=\".navbar-collapse\">\\n\\n    <header class=\"site-header\">\\n\\n<!--   <div class=\"wrapper\">\\n -->\\n\\n  <!-- Navigation\\n==========================================================================-->\\n\\n<nav class=\"navbar navbar-default navbar-fixed-top\">\\n    <div class=\"container-fluid\">\\n        <!-- Brand and toggle get grouped for better mobile display -->\\n        <div class=\"navbar-header\">\\n            <button type=\"button\" class=\"navbar-toggle collapsed\" data-toggle=\"collapse\" data-target=\"#bs-example-navbar-collapse-1\" aria-expanded=\"false\">\\n                Menu\\n            </button>\\n            <!-- <a class=\"logo\" class=\"navbar-brand\" href=\"/\"><img alt=\"Sage Elliott Logo\" src=\"/img/logoblack.png\"> </a> -->\\n            <ul class=\"nav navbar-nav navbar-text\">\\n                <li><a href=\"/\">Sage Elliott</a></li>\\n            </ul>\\n        </div>\\n\\n        <!-- Collect the nav links, forms, and other content for toggling -->\\n        <div class=\"collapse navbar-collapse\" id=\"bs-example-navbar-collapse-1\">\\n            <!-- <ul class=\"nav navbar-nav navbar-text\">\\n                <li><a href=\"/\">Sage Elliott</a></li>\\n            </ul> -->\\n            <ul class=\"nav navbar-nav navbar-right\">\\n                <li><a class=\"page-link\" href=\"/\">About</a></li>\\n                <li><a class=\"page-link\" href=\"/projects\">Projects</a></li>\\n                <li><a class=\"page-link\" href=\"/blog\">Blog</a></li>\\n                <li><a class=\"page-link\" href=\"/speaking\">Speaking</a></li>\\n\\n            </ul>\\n        </div>\\n        <!-- /.navbar-collapse -->\\n    </div>\\n    <!-- /.container-fluid -->\\n</nav>\\n<!-- </div>\\n -->\\n\\n\\n</header>\\n\\n\\n\\n    <div class=\"page-content\">\\n    <div class=\"outer-wrapper\">\\n      <div class=\"wrapper\">\\n        <div class=\"main-content\">\\n<h1>Lots of stuff to try web scraping on!</h1>\\n\\n<p>This page is full of different tags that you will commonly see\\n    out in the wild on the web!</p>\\n\\n<h1>Example headlines</h1>\\n\\n<h2 class=\"headline\">I love this!</h2>\\n<h2 class=\"headline\">I hate this so much!</h2>\\n<h2 class=\"headline\">The dumbest thing happened</h2>\\n<h2 class=\"headline\">This is a great workshop!</h2>\\n<h2 class=\"headline\">This workshop is horrible</h2>\\n<h2 class=\"headline\">I\\'m tired...</h2>\\n<h2 class=\"headline\">This thing is ok...</h2>\\n\\n<h1>Example unordered list</h1>\\n\\n<ul>\\n    <li>Elon Musk is worth $21,000,000,000</li>\\n    <li>Jeff Bezos is worth $137,000,400,000 </li>\\n    <li>Bill Gates is worth $95,000,000,000</li>\\n    <li>Mark Zuckerburg is worth $54,600,000,000</li>\\n</ul>\\n\\n<h1>Example links</h1>\\n\\n<a href=\"https://www.galvanize.com/data-science-prep\">Data Science Free prep</a>\\n<a href=\"http://docs.python-requests.org/en/master/\">Python Requests</a>\\n<a href=\"https://www.crummy.com/software/BeautifulSoup/\">Beautiful Soup</a>\\n<a href=\"https://pandas.pydata.org/\">Pandas</a>\\n<a href=\"https://www.nltk.org/\">NLTK</a>\\n<a href=\"https://scrapy.org/\">Scrapy</a>\\n<a href=\"https://www.anaconda.com/\">Anaconda</a>\\n\\n</div>\\n      </div>\\n    </div>\\n\\n\\n    \\n<section id=\"footer\">\\n            <div class=\"row\">\\n                <div class=\"col-md-12\">\\n                    <p class=\"footerp\">\\n                        <a class=\"logo\" class=\"navbar-brand\" href=\"#top\">Sage Elliott</a>\\n                        <br>\\n                        <a href=\"mailto:hello@sageelliott.com\">hello@SageElliott.com</a>\\n                        <br>\\n                        <a href=\"https://twitter.com/sagecodes\">twitter</a> |\\n                        <a href=\"https://github.com/sagecodes\">github</a> |\\n                        <a href=\"https://www.linkedin.com/in/sageelliott\">linkedin</a>\\n                        <br> &copy; 2019 Sage Elliott\\n                    </p>\\n                </div>\\n            </div>\\n        </section>\\n\\n    </div>\\n\\n  </body>\\n\\n</html>\\n'\n"
          ],
          "name": "stdout"
        }
      ]
    },
    {
      "cell_type": "markdown",
      "metadata": {
        "id": "qaxIk_fiqTG1",
        "colab_type": "text"
      },
      "source": [
        "#### That is a really big, really ugly string! \n",
        "\n",
        "Lets use Beautiful Soup on content from requests \n",
        "- This will make it much more readble when we print it out and allow us to use more Beautifulsoup functionality"
      ]
    },
    {
      "cell_type": "code",
      "metadata": {
        "id": "e2g1gmvAvnAS",
        "colab_type": "code",
        "colab": {}
      },
      "source": [
        "# identify/tag the content (same thing we just printed)\n",
        "c = r.content\n",
        "# use Beautifulsoup on content from request (again, content we just printed)\n",
        "soup = BeautifulSoup(c)"
      ],
      "execution_count": 0,
      "outputs": []
    },
    {
      "cell_type": "code",
      "metadata": {
        "id": "mArM7Ee5v72j",
        "colab_type": "code",
        "outputId": "a38060a1-d4a0-48b9-f333-e1e4596ca966",
        "colab": {
          "base_uri": "https://localhost:8080/",
          "height": 1000
        }
      },
      "source": [
        "# Look at the content formatted with Beautifulsoup\n",
        "print(soup)"
      ],
      "execution_count": 6,
      "outputs": [
        {
          "output_type": "stream",
          "text": [
            "<!DOCTYPE html>\n",
            "<html>\n",
            "<head>\n",
            "<meta charset=\"utf-8\"/>\n",
            "<meta content=\"IE=edge\" http-equiv=\"X-UA-Compatible\"/>\n",
            "<meta content=\"width=device-width, initial-scale=1\" name=\"viewport\"/>\n",
            "<title>Web Scraping | Sage Elliott 🥑</title>\n",
            "<meta content=\"I make things.\" name=\"description\"/>\n",
            "<link href=\"/css/main.css\" rel=\"stylesheet\"/>\n",
            "<link href=\"http://sageelliott.com/scrape/\" rel=\"canonical\"/>\n",
            "<link href=\"http://sageelliott.com/feed.xml\" rel=\"alternate\" title=\"Sage Elliott 🥑\" type=\"application/rss+xml\"/>\n",
            "<script src=\"https://code.jquery.com/jquery-2.1.3.min.js\"></script>\n",
            "<script src=\"/js/bootstrap.min.js\"></script>\n",
            "<script src=\"/js/script.js\"></script>\n",
            "<link href=\"/css/bootstrap.min.css\" rel=\"stylesheet\"/>\n",
            "<link href=\"/css/bootstrap-theme.min.css\" rel=\"stylesheet\"/>\n",
            "<link href=\"/css/style.css\" rel=\"stylesheet\"/>\n",
            "<link href=\"/css/responsive.css\" rel=\"stylesheet\"/>\n",
            "<link href=\"https://fonts.googleapis.com/css?family=Pathway+Gothic+One|Alegreya:400italic,700italic,400,700|Alegreya+SC\" rel=\"stylesheet\" type=\"text/css\"/>\n",
            "<!-- Global site tag (gtag.js) - Google Analytics -->\n",
            "<script async=\"\" src=\"https://www.googletagmanager.com/gtag/js?id=UA-121052385-1\"></script>\n",
            "<script>\n",
            "    window.dataLayer = window.dataLayer || [];\n",
            "    function gtag(){dataLayer.push(arguments);}\n",
            "    gtag('js', new Date());\n",
            "\n",
            "    gtag('config', 'UA-121052385-1');\n",
            "  </script>\n",
            "</head>\n",
            "<link href=\"/img/logoblack.png\" rel=\"icon\" type=\"image/png\"/>\n",
            "<body data-spy=\"scroll\" data-target=\".navbar-collapse\">\n",
            "<header class=\"site-header\">\n",
            "<!--   <div class=\"wrapper\">\n",
            " -->\n",
            "<!-- Navigation\n",
            "==========================================================================-->\n",
            "<nav class=\"navbar navbar-default navbar-fixed-top\">\n",
            "<div class=\"container-fluid\">\n",
            "<!-- Brand and toggle get grouped for better mobile display -->\n",
            "<div class=\"navbar-header\">\n",
            "<button aria-expanded=\"false\" class=\"navbar-toggle collapsed\" data-target=\"#bs-example-navbar-collapse-1\" data-toggle=\"collapse\" type=\"button\">\n",
            "                Menu\n",
            "            </button>\n",
            "<!-- <a class=\"logo\" class=\"navbar-brand\" href=\"/\"><img alt=\"Sage Elliott Logo\" src=\"/img/logoblack.png\"> </a> -->\n",
            "<ul class=\"nav navbar-nav navbar-text\">\n",
            "<li><a href=\"/\">Sage Elliott</a></li>\n",
            "</ul>\n",
            "</div>\n",
            "<!-- Collect the nav links, forms, and other content for toggling -->\n",
            "<div class=\"collapse navbar-collapse\" id=\"bs-example-navbar-collapse-1\">\n",
            "<!-- <ul class=\"nav navbar-nav navbar-text\">\n",
            "                <li><a href=\"/\">Sage Elliott</a></li>\n",
            "            </ul> -->\n",
            "<ul class=\"nav navbar-nav navbar-right\">\n",
            "<li><a class=\"page-link\" href=\"/\">About</a></li>\n",
            "<li><a class=\"page-link\" href=\"/projects\">Projects</a></li>\n",
            "<li><a class=\"page-link\" href=\"/blog\">Blog</a></li>\n",
            "<li><a class=\"page-link\" href=\"/speaking\">Speaking</a></li>\n",
            "</ul>\n",
            "</div>\n",
            "<!-- /.navbar-collapse -->\n",
            "</div>\n",
            "<!-- /.container-fluid -->\n",
            "</nav>\n",
            "<!-- </div>\n",
            " -->\n",
            "</header>\n",
            "<div class=\"page-content\">\n",
            "<div class=\"outer-wrapper\">\n",
            "<div class=\"wrapper\">\n",
            "<div class=\"main-content\">\n",
            "<h1>Lots of stuff to try web scraping on!</h1>\n",
            "<p>This page is full of different tags that you will commonly see\n",
            "    out in the wild on the web!</p>\n",
            "<h1>Example headlines</h1>\n",
            "<h2 class=\"headline\">I love this!</h2>\n",
            "<h2 class=\"headline\">I hate this so much!</h2>\n",
            "<h2 class=\"headline\">The dumbest thing happened</h2>\n",
            "<h2 class=\"headline\">This is a great workshop!</h2>\n",
            "<h2 class=\"headline\">This workshop is horrible</h2>\n",
            "<h2 class=\"headline\">I'm tired...</h2>\n",
            "<h2 class=\"headline\">This thing is ok...</h2>\n",
            "<h1>Example unordered list</h1>\n",
            "<ul>\n",
            "<li>Elon Musk is worth $21,000,000,000</li>\n",
            "<li>Jeff Bezos is worth $137,000,400,000 </li>\n",
            "<li>Bill Gates is worth $95,000,000,000</li>\n",
            "<li>Mark Zuckerburg is worth $54,600,000,000</li>\n",
            "</ul>\n",
            "<h1>Example links</h1>\n",
            "<a href=\"https://www.galvanize.com/data-science-prep\">Data Science Free prep</a>\n",
            "<a href=\"http://docs.python-requests.org/en/master/\">Python Requests</a>\n",
            "<a href=\"https://www.crummy.com/software/BeautifulSoup/\">Beautiful Soup</a>\n",
            "<a href=\"https://pandas.pydata.org/\">Pandas</a>\n",
            "<a href=\"https://www.nltk.org/\">NLTK</a>\n",
            "<a href=\"https://scrapy.org/\">Scrapy</a>\n",
            "<a href=\"https://www.anaconda.com/\">Anaconda</a>\n",
            "</div>\n",
            "</div>\n",
            "</div>\n",
            "<section id=\"footer\">\n",
            "<div class=\"row\">\n",
            "<div class=\"col-md-12\">\n",
            "<p class=\"footerp\">\n",
            "<a class=\"logo\" href=\"#top\">Sage Elliott</a>\n",
            "<br/>\n",
            "<a href=\"mailto:hello@sageelliott.com\">hello@SageElliott.com</a>\n",
            "<br/>\n",
            "<a href=\"https://twitter.com/sagecodes\">twitter</a> |\n",
            "                        <a href=\"https://github.com/sagecodes\">github</a> |\n",
            "                        <a href=\"https://www.linkedin.com/in/sageelliott\">linkedin</a>\n",
            "<br/> © 2019 Sage Elliott\n",
            "                    </p>\n",
            "</div>\n",
            "</div>\n",
            "</section>\n",
            "</div>\n",
            "</body>\n",
            "</html>\n",
            "\n"
          ],
          "name": "stdout"
        }
      ]
    },
    {
      "cell_type": "markdown",
      "metadata": {
        "id": "gwilKcxtCOVX",
        "colab_type": "text"
      },
      "source": [
        "#### Uhhhh.. What?\n",
        "- That's difficult to read...\n",
        "  - We can make it look better (more readable) by using the prettify() function from Beautiful soup \n",
        "    - prettify() indents HTML like it should be in the web page\n",
        "      - i.e. you can think \"this is how the code actually looks\"\n"
      ]
    },
    {
      "cell_type": "code",
      "metadata": {
        "id": "7gUqKWNTcycX",
        "colab_type": "code",
        "outputId": "263f5c73-180c-4344-86d7-a6d942206f46",
        "colab": {
          "base_uri": "https://localhost:8080/",
          "height": 1000
        }
      },
      "source": [
        "# This can make reading teh HTML a little be easier\n",
        "print(soup.prettify())"
      ],
      "execution_count": 7,
      "outputs": [
        {
          "output_type": "stream",
          "text": [
            "<!DOCTYPE html>\n",
            "<html>\n",
            " <head>\n",
            "  <meta charset=\"utf-8\"/>\n",
            "  <meta content=\"IE=edge\" http-equiv=\"X-UA-Compatible\"/>\n",
            "  <meta content=\"width=device-width, initial-scale=1\" name=\"viewport\"/>\n",
            "  <title>\n",
            "   Web Scraping | Sage Elliott 🥑\n",
            "  </title>\n",
            "  <meta content=\"I make things.\" name=\"description\"/>\n",
            "  <link href=\"/css/main.css\" rel=\"stylesheet\"/>\n",
            "  <link href=\"http://sageelliott.com/scrape/\" rel=\"canonical\"/>\n",
            "  <link href=\"http://sageelliott.com/feed.xml\" rel=\"alternate\" title=\"Sage Elliott 🥑\" type=\"application/rss+xml\"/>\n",
            "  <script src=\"https://code.jquery.com/jquery-2.1.3.min.js\">\n",
            "  </script>\n",
            "  <script src=\"/js/bootstrap.min.js\">\n",
            "  </script>\n",
            "  <script src=\"/js/script.js\">\n",
            "  </script>\n",
            "  <link href=\"/css/bootstrap.min.css\" rel=\"stylesheet\"/>\n",
            "  <link href=\"/css/bootstrap-theme.min.css\" rel=\"stylesheet\"/>\n",
            "  <link href=\"/css/style.css\" rel=\"stylesheet\"/>\n",
            "  <link href=\"/css/responsive.css\" rel=\"stylesheet\"/>\n",
            "  <link href=\"https://fonts.googleapis.com/css?family=Pathway+Gothic+One|Alegreya:400italic,700italic,400,700|Alegreya+SC\" rel=\"stylesheet\" type=\"text/css\"/>\n",
            "  <!-- Global site tag (gtag.js) - Google Analytics -->\n",
            "  <script async=\"\" src=\"https://www.googletagmanager.com/gtag/js?id=UA-121052385-1\">\n",
            "  </script>\n",
            "  <script>\n",
            "   window.dataLayer = window.dataLayer || [];\n",
            "    function gtag(){dataLayer.push(arguments);}\n",
            "    gtag('js', new Date());\n",
            "\n",
            "    gtag('config', 'UA-121052385-1');\n",
            "  </script>\n",
            " </head>\n",
            " <link href=\"/img/logoblack.png\" rel=\"icon\" type=\"image/png\"/>\n",
            " <body data-spy=\"scroll\" data-target=\".navbar-collapse\">\n",
            "  <header class=\"site-header\">\n",
            "   <!--   <div class=\"wrapper\">\n",
            " -->\n",
            "   <!-- Navigation\n",
            "==========================================================================-->\n",
            "   <nav class=\"navbar navbar-default navbar-fixed-top\">\n",
            "    <div class=\"container-fluid\">\n",
            "     <!-- Brand and toggle get grouped for better mobile display -->\n",
            "     <div class=\"navbar-header\">\n",
            "      <button aria-expanded=\"false\" class=\"navbar-toggle collapsed\" data-target=\"#bs-example-navbar-collapse-1\" data-toggle=\"collapse\" type=\"button\">\n",
            "       Menu\n",
            "      </button>\n",
            "      <!-- <a class=\"logo\" class=\"navbar-brand\" href=\"/\"><img alt=\"Sage Elliott Logo\" src=\"/img/logoblack.png\"> </a> -->\n",
            "      <ul class=\"nav navbar-nav navbar-text\">\n",
            "       <li>\n",
            "        <a href=\"/\">\n",
            "         Sage Elliott\n",
            "        </a>\n",
            "       </li>\n",
            "      </ul>\n",
            "     </div>\n",
            "     <!-- Collect the nav links, forms, and other content for toggling -->\n",
            "     <div class=\"collapse navbar-collapse\" id=\"bs-example-navbar-collapse-1\">\n",
            "      <!-- <ul class=\"nav navbar-nav navbar-text\">\n",
            "                <li><a href=\"/\">Sage Elliott</a></li>\n",
            "            </ul> -->\n",
            "      <ul class=\"nav navbar-nav navbar-right\">\n",
            "       <li>\n",
            "        <a class=\"page-link\" href=\"/\">\n",
            "         About\n",
            "        </a>\n",
            "       </li>\n",
            "       <li>\n",
            "        <a class=\"page-link\" href=\"/projects\">\n",
            "         Projects\n",
            "        </a>\n",
            "       </li>\n",
            "       <li>\n",
            "        <a class=\"page-link\" href=\"/blog\">\n",
            "         Blog\n",
            "        </a>\n",
            "       </li>\n",
            "       <li>\n",
            "        <a class=\"page-link\" href=\"/speaking\">\n",
            "         Speaking\n",
            "        </a>\n",
            "       </li>\n",
            "      </ul>\n",
            "     </div>\n",
            "     <!-- /.navbar-collapse -->\n",
            "    </div>\n",
            "    <!-- /.container-fluid -->\n",
            "   </nav>\n",
            "   <!-- </div>\n",
            " -->\n",
            "  </header>\n",
            "  <div class=\"page-content\">\n",
            "   <div class=\"outer-wrapper\">\n",
            "    <div class=\"wrapper\">\n",
            "     <div class=\"main-content\">\n",
            "      <h1>\n",
            "       Lots of stuff to try web scraping on!\n",
            "      </h1>\n",
            "      <p>\n",
            "       This page is full of different tags that you will commonly see\n",
            "    out in the wild on the web!\n",
            "      </p>\n",
            "      <h1>\n",
            "       Example headlines\n",
            "      </h1>\n",
            "      <h2 class=\"headline\">\n",
            "       I love this!\n",
            "      </h2>\n",
            "      <h2 class=\"headline\">\n",
            "       I hate this so much!\n",
            "      </h2>\n",
            "      <h2 class=\"headline\">\n",
            "       The dumbest thing happened\n",
            "      </h2>\n",
            "      <h2 class=\"headline\">\n",
            "       This is a great workshop!\n",
            "      </h2>\n",
            "      <h2 class=\"headline\">\n",
            "       This workshop is horrible\n",
            "      </h2>\n",
            "      <h2 class=\"headline\">\n",
            "       I'm tired...\n",
            "      </h2>\n",
            "      <h2 class=\"headline\">\n",
            "       This thing is ok...\n",
            "      </h2>\n",
            "      <h1>\n",
            "       Example unordered list\n",
            "      </h1>\n",
            "      <ul>\n",
            "       <li>\n",
            "        Elon Musk is worth $21,000,000,000\n",
            "       </li>\n",
            "       <li>\n",
            "        Jeff Bezos is worth $137,000,400,000\n",
            "       </li>\n",
            "       <li>\n",
            "        Bill Gates is worth $95,000,000,000\n",
            "       </li>\n",
            "       <li>\n",
            "        Mark Zuckerburg is worth $54,600,000,000\n",
            "       </li>\n",
            "      </ul>\n",
            "      <h1>\n",
            "       Example links\n",
            "      </h1>\n",
            "      <a href=\"https://www.galvanize.com/data-science-prep\">\n",
            "       Data Science Free prep\n",
            "      </a>\n",
            "      <a href=\"http://docs.python-requests.org/en/master/\">\n",
            "       Python Requests\n",
            "      </a>\n",
            "      <a href=\"https://www.crummy.com/software/BeautifulSoup/\">\n",
            "       Beautiful Soup\n",
            "      </a>\n",
            "      <a href=\"https://pandas.pydata.org/\">\n",
            "       Pandas\n",
            "      </a>\n",
            "      <a href=\"https://www.nltk.org/\">\n",
            "       NLTK\n",
            "      </a>\n",
            "      <a href=\"https://scrapy.org/\">\n",
            "       Scrapy\n",
            "      </a>\n",
            "      <a href=\"https://www.anaconda.com/\">\n",
            "       Anaconda\n",
            "      </a>\n",
            "     </div>\n",
            "    </div>\n",
            "   </div>\n",
            "   <section id=\"footer\">\n",
            "    <div class=\"row\">\n",
            "     <div class=\"col-md-12\">\n",
            "      <p class=\"footerp\">\n",
            "       <a class=\"logo\" href=\"#top\">\n",
            "        Sage Elliott\n",
            "       </a>\n",
            "       <br/>\n",
            "       <a href=\"mailto:hello@sageelliott.com\">\n",
            "        hello@SageElliott.com\n",
            "       </a>\n",
            "       <br/>\n",
            "       <a href=\"https://twitter.com/sagecodes\">\n",
            "        twitter\n",
            "       </a>\n",
            "       |\n",
            "       <a href=\"https://github.com/sagecodes\">\n",
            "        github\n",
            "       </a>\n",
            "       |\n",
            "       <a href=\"https://www.linkedin.com/in/sageelliott\">\n",
            "        linkedin\n",
            "       </a>\n",
            "       <br/>\n",
            "       © 2019 Sage Elliott\n",
            "      </p>\n",
            "     </div>\n",
            "    </div>\n",
            "   </section>\n",
            "  </div>\n",
            " </body>\n",
            "</html>\n",
            "\n"
          ],
          "name": "stdout"
        }
      ]
    },
    {
      "cell_type": "markdown",
      "metadata": {
        "id": "vjuRzBSzqruq",
        "colab_type": "text"
      },
      "source": [
        "Often the content that you want to scrape will be inside a tag like `div` or similar element. \n",
        "\n",
        "- In this case when we look at our HTML we see that the actual content of the page is inside of a `div` with a class of `main-content`. \n",
        "\n",
        "- Lets grab all the content inside that `div` and save it to a variable. \n",
        "\n",
        "\n",
        "**We're going from this**"
      ]
    },
    {
      "cell_type": "code",
      "metadata": {
        "id": "17KDKO25W-2Z",
        "colab_type": "code",
        "outputId": "2d96fccc-9218-41c9-d875-29c7a9ff6a83",
        "colab": {
          "base_uri": "https://localhost:8080/",
          "height": 1000
        }
      },
      "source": [
        "soup"
      ],
      "execution_count": 8,
      "outputs": [
        {
          "output_type": "execute_result",
          "data": {
            "text/plain": [
              "<!DOCTYPE html>\n",
              "<html>\n",
              "<head>\n",
              "<meta charset=\"utf-8\"/>\n",
              "<meta content=\"IE=edge\" http-equiv=\"X-UA-Compatible\"/>\n",
              "<meta content=\"width=device-width, initial-scale=1\" name=\"viewport\"/>\n",
              "<title>Web Scraping | Sage Elliott 🥑</title>\n",
              "<meta content=\"I make things.\" name=\"description\"/>\n",
              "<link href=\"/css/main.css\" rel=\"stylesheet\"/>\n",
              "<link href=\"http://sageelliott.com/scrape/\" rel=\"canonical\"/>\n",
              "<link href=\"http://sageelliott.com/feed.xml\" rel=\"alternate\" title=\"Sage Elliott 🥑\" type=\"application/rss+xml\"/>\n",
              "<script src=\"https://code.jquery.com/jquery-2.1.3.min.js\"></script>\n",
              "<script src=\"/js/bootstrap.min.js\"></script>\n",
              "<script src=\"/js/script.js\"></script>\n",
              "<link href=\"/css/bootstrap.min.css\" rel=\"stylesheet\"/>\n",
              "<link href=\"/css/bootstrap-theme.min.css\" rel=\"stylesheet\"/>\n",
              "<link href=\"/css/style.css\" rel=\"stylesheet\"/>\n",
              "<link href=\"/css/responsive.css\" rel=\"stylesheet\"/>\n",
              "<link href=\"https://fonts.googleapis.com/css?family=Pathway+Gothic+One|Alegreya:400italic,700italic,400,700|Alegreya+SC\" rel=\"stylesheet\" type=\"text/css\"/>\n",
              "<!-- Global site tag (gtag.js) - Google Analytics -->\n",
              "<script async=\"\" src=\"https://www.googletagmanager.com/gtag/js?id=UA-121052385-1\"></script>\n",
              "<script>\n",
              "    window.dataLayer = window.dataLayer || [];\n",
              "    function gtag(){dataLayer.push(arguments);}\n",
              "    gtag('js', new Date());\n",
              "\n",
              "    gtag('config', 'UA-121052385-1');\n",
              "  </script>\n",
              "</head>\n",
              "<link href=\"/img/logoblack.png\" rel=\"icon\" type=\"image/png\"/>\n",
              "<body data-spy=\"scroll\" data-target=\".navbar-collapse\">\n",
              "<header class=\"site-header\">\n",
              "<!--   <div class=\"wrapper\">\n",
              " -->\n",
              "<!-- Navigation\n",
              "==========================================================================-->\n",
              "<nav class=\"navbar navbar-default navbar-fixed-top\">\n",
              "<div class=\"container-fluid\">\n",
              "<!-- Brand and toggle get grouped for better mobile display -->\n",
              "<div class=\"navbar-header\">\n",
              "<button aria-expanded=\"false\" class=\"navbar-toggle collapsed\" data-target=\"#bs-example-navbar-collapse-1\" data-toggle=\"collapse\" type=\"button\">\n",
              "                Menu\n",
              "            </button>\n",
              "<!-- <a class=\"logo\" class=\"navbar-brand\" href=\"/\"><img alt=\"Sage Elliott Logo\" src=\"/img/logoblack.png\"> </a> -->\n",
              "<ul class=\"nav navbar-nav navbar-text\">\n",
              "<li><a href=\"/\">Sage Elliott</a></li>\n",
              "</ul>\n",
              "</div>\n",
              "<!-- Collect the nav links, forms, and other content for toggling -->\n",
              "<div class=\"collapse navbar-collapse\" id=\"bs-example-navbar-collapse-1\">\n",
              "<!-- <ul class=\"nav navbar-nav navbar-text\">\n",
              "                <li><a href=\"/\">Sage Elliott</a></li>\n",
              "            </ul> -->\n",
              "<ul class=\"nav navbar-nav navbar-right\">\n",
              "<li><a class=\"page-link\" href=\"/\">About</a></li>\n",
              "<li><a class=\"page-link\" href=\"/projects\">Projects</a></li>\n",
              "<li><a class=\"page-link\" href=\"/blog\">Blog</a></li>\n",
              "<li><a class=\"page-link\" href=\"/speaking\">Speaking</a></li>\n",
              "</ul>\n",
              "</div>\n",
              "<!-- /.navbar-collapse -->\n",
              "</div>\n",
              "<!-- /.container-fluid -->\n",
              "</nav>\n",
              "<!-- </div>\n",
              " -->\n",
              "</header>\n",
              "<div class=\"page-content\">\n",
              "<div class=\"outer-wrapper\">\n",
              "<div class=\"wrapper\">\n",
              "<div class=\"main-content\">\n",
              "<h1>Lots of stuff to try web scraping on!</h1>\n",
              "<p>This page is full of different tags that you will commonly see\n",
              "    out in the wild on the web!</p>\n",
              "<h1>Example headlines</h1>\n",
              "<h2 class=\"headline\">I love this!</h2>\n",
              "<h2 class=\"headline\">I hate this so much!</h2>\n",
              "<h2 class=\"headline\">The dumbest thing happened</h2>\n",
              "<h2 class=\"headline\">This is a great workshop!</h2>\n",
              "<h2 class=\"headline\">This workshop is horrible</h2>\n",
              "<h2 class=\"headline\">I'm tired...</h2>\n",
              "<h2 class=\"headline\">This thing is ok...</h2>\n",
              "<h1>Example unordered list</h1>\n",
              "<ul>\n",
              "<li>Elon Musk is worth $21,000,000,000</li>\n",
              "<li>Jeff Bezos is worth $137,000,400,000 </li>\n",
              "<li>Bill Gates is worth $95,000,000,000</li>\n",
              "<li>Mark Zuckerburg is worth $54,600,000,000</li>\n",
              "</ul>\n",
              "<h1>Example links</h1>\n",
              "<a href=\"https://www.galvanize.com/data-science-prep\">Data Science Free prep</a>\n",
              "<a href=\"http://docs.python-requests.org/en/master/\">Python Requests</a>\n",
              "<a href=\"https://www.crummy.com/software/BeautifulSoup/\">Beautiful Soup</a>\n",
              "<a href=\"https://pandas.pydata.org/\">Pandas</a>\n",
              "<a href=\"https://www.nltk.org/\">NLTK</a>\n",
              "<a href=\"https://scrapy.org/\">Scrapy</a>\n",
              "<a href=\"https://www.anaconda.com/\">Anaconda</a>\n",
              "</div>\n",
              "</div>\n",
              "</div>\n",
              "<section id=\"footer\">\n",
              "<div class=\"row\">\n",
              "<div class=\"col-md-12\">\n",
              "<p class=\"footerp\">\n",
              "<a class=\"logo\" href=\"#top\">Sage Elliott</a>\n",
              "<br/>\n",
              "<a href=\"mailto:hello@sageelliott.com\">hello@SageElliott.com</a>\n",
              "<br/>\n",
              "<a href=\"https://twitter.com/sagecodes\">twitter</a> |\n",
              "                        <a href=\"https://github.com/sagecodes\">github</a> |\n",
              "                        <a href=\"https://www.linkedin.com/in/sageelliott\">linkedin</a>\n",
              "<br/> © 2019 Sage Elliott\n",
              "                    </p>\n",
              "</div>\n",
              "</div>\n",
              "</section>\n",
              "</div>\n",
              "</body>\n",
              "</html>"
            ]
          },
          "metadata": {
            "tags": []
          },
          "execution_count": 8
        }
      ]
    },
    {
      "cell_type": "markdown",
      "metadata": {
        "id": "iq6QTSH7XsVm",
        "colab_type": "text"
      },
      "source": [
        "**To this**"
      ]
    },
    {
      "cell_type": "code",
      "metadata": {
        "id": "vmHYMk3jFPZE",
        "colab_type": "code",
        "outputId": "d57896f3-8616-44e2-8fc5-1c9882412f31",
        "colab": {
          "base_uri": "https://localhost:8080/",
          "height": 503
        }
      },
      "source": [
        "# get elements within the 'main-content' tag\n",
        "main_content = soup.find('div', attrs = {'class': 'main-content'})\n",
        "print(main_content)"
      ],
      "execution_count": 9,
      "outputs": [
        {
          "output_type": "stream",
          "text": [
            "<div class=\"main-content\">\n",
            "<h1>Lots of stuff to try web scraping on!</h1>\n",
            "<p>This page is full of different tags that you will commonly see\n",
            "    out in the wild on the web!</p>\n",
            "<h1>Example headlines</h1>\n",
            "<h2 class=\"headline\">I love this!</h2>\n",
            "<h2 class=\"headline\">I hate this so much!</h2>\n",
            "<h2 class=\"headline\">The dumbest thing happened</h2>\n",
            "<h2 class=\"headline\">This is a great workshop!</h2>\n",
            "<h2 class=\"headline\">This workshop is horrible</h2>\n",
            "<h2 class=\"headline\">I'm tired...</h2>\n",
            "<h2 class=\"headline\">This thing is ok...</h2>\n",
            "<h1>Example unordered list</h1>\n",
            "<ul>\n",
            "<li>Elon Musk is worth $21,000,000,000</li>\n",
            "<li>Jeff Bezos is worth $137,000,400,000 </li>\n",
            "<li>Bill Gates is worth $95,000,000,000</li>\n",
            "<li>Mark Zuckerburg is worth $54,600,000,000</li>\n",
            "</ul>\n",
            "<h1>Example links</h1>\n",
            "<a href=\"https://www.galvanize.com/data-science-prep\">Data Science Free prep</a>\n",
            "<a href=\"http://docs.python-requests.org/en/master/\">Python Requests</a>\n",
            "<a href=\"https://www.crummy.com/software/BeautifulSoup/\">Beautiful Soup</a>\n",
            "<a href=\"https://pandas.pydata.org/\">Pandas</a>\n",
            "<a href=\"https://www.nltk.org/\">NLTK</a>\n",
            "<a href=\"https://scrapy.org/\">Scrapy</a>\n",
            "<a href=\"https://www.anaconda.com/\">Anaconda</a>\n",
            "</div>\n"
          ],
          "name": "stdout"
        }
      ]
    },
    {
      "cell_type": "markdown",
      "metadata": {
        "id": "hI7xt49WrW94",
        "colab_type": "text"
      },
      "source": [
        "Lets drill deeper down into our content and look at different ways of selecting elements within our main-content div.\n",
        "\n",
        "We want to get just our items inside of the list"
      ]
    },
    {
      "cell_type": "markdown",
      "metadata": {
        "id": "DfUwHBJTrtG9",
        "colab_type": "text"
      },
      "source": [
        "I'm going to be using examples like the above for most of this workshop, but I want to show that you could also chain the elements like the example below:"
      ]
    },
    {
      "cell_type": "markdown",
      "metadata": {
        "id": "owsuv5r5twSQ",
        "colab_type": "text"
      },
      "source": [
        "Lets get the headline elements\n",
        "\n",
        "When we look at the HTML we can see that they all have `h2` tags. \n"
      ]
    },
    {
      "cell_type": "markdown",
      "metadata": {
        "id": "MYiO-z95YC5r",
        "colab_type": "text"
      },
      "source": [
        "What is \"h2\"\n",
        "- idk, ask a web-dev...\n",
        "    \n",
        "# Header\n",
        "## Header 2\n",
        "### Header 3\n",
        "#### something smaller than header\n",
        "- **Not the same as bold**"
      ]
    },
    {
      "cell_type": "code",
      "metadata": {
        "id": "N_cECgWQtwlk",
        "colab_type": "code",
        "outputId": "8e6133be-e2b6-458a-9adb-f05f5bea288d",
        "colab": {
          "base_uri": "https://localhost:8080/",
          "height": 34
        }
      },
      "source": [
        "# Try to get h2 (\"Header 2\") elements\n",
        "content = main_content.find('h2').text\n",
        "\n",
        "print(content)"
      ],
      "execution_count": 10,
      "outputs": [
        {
          "output_type": "stream",
          "text": [
            "I love this!\n"
          ],
          "name": "stdout"
        }
      ]
    },
    {
      "cell_type": "markdown",
      "metadata": {
        "id": "5XbD-OTNtw9N",
        "colab_type": "text"
      },
      "source": [
        "Oh no! It looks like when using `.find()` it only returns the first matching element on the page.\n",
        "\n",
        "We can get all the matching elements by using the`.find_all()` method"
      ]
    },
    {
      "cell_type": "code",
      "metadata": {
        "id": "zmzxTDOeefmN",
        "colab_type": "code",
        "outputId": "66ce177d-aec3-4528-855f-799130e9cc4f",
        "colab": {
          "base_uri": "https://localhost:8080/",
          "height": 54
        }
      },
      "source": [
        "# get all the h2s on the page and display each one\n",
        "content = main_content.find_all('h2')\n",
        "\n",
        "print(content)\n"
      ],
      "execution_count": 11,
      "outputs": [
        {
          "output_type": "stream",
          "text": [
            "[<h2 class=\"headline\">I love this!</h2>, <h2 class=\"headline\">I hate this so much!</h2>, <h2 class=\"headline\">The dumbest thing happened</h2>, <h2 class=\"headline\">This is a great workshop!</h2>, <h2 class=\"headline\">This workshop is horrible</h2>, <h2 class=\"headline\">I'm tired...</h2>, <h2 class=\"headline\">This thing is ok...</h2>]\n"
          ],
          "name": "stdout"
        }
      ]
    },
    {
      "cell_type": "markdown",
      "metadata": {
        "id": "gWLelycXwlHk",
        "colab_type": "text"
      },
      "source": [
        "Notice when we print out content above it have the HTML h2 elements seperated by commas inside brackets []. This is called a `list`. Its ofen used to store multiple values in. \n",
        "\n",
        "Lists are iterable, and we can go through each item inside to print them out\n",
        "\n"
      ]
    },
    {
      "cell_type": "code",
      "metadata": {
        "id": "97Rv0YsJwlUL",
        "colab_type": "code",
        "outputId": "b83cd7c3-daee-4960-e6d2-79252bda0361",
        "colab": {
          "base_uri": "https://localhost:8080/",
          "height": 139
        }
      },
      "source": [
        "# Iterate content list and print out text inside each h2 element\n",
        "\n",
        "for h2 in content:\n",
        "    print(h2.text)"
      ],
      "execution_count": 12,
      "outputs": [
        {
          "output_type": "stream",
          "text": [
            "I love this!\n",
            "I hate this so much!\n",
            "The dumbest thing happened\n",
            "This is a great workshop!\n",
            "This workshop is horrible\n",
            "I'm tired...\n",
            "This thing is ok...\n"
          ],
          "name": "stdout"
        }
      ]
    },
    {
      "cell_type": "markdown",
      "metadata": {
        "id": "W_nk7ZqMsg5R",
        "colab_type": "text"
      },
      "source": [
        "# Text Analysis"
      ]
    },
    {
      "cell_type": "markdown",
      "metadata": {
        "id": "kMhqLG_Cc6Ym",
        "colab_type": "text"
      },
      "source": [
        ""
      ]
    },
    {
      "cell_type": "markdown",
      "metadata": {
        "id": "pv54dRWqruGz",
        "colab_type": "text"
      },
      "source": [
        "Lets do some sentiment analysis on our headlines `h2` elements\n",
        "\n",
        "Maybe we're looking at a list of News headlines and we only want to read the ones we think are positive"
      ]
    },
    {
      "cell_type": "code",
      "metadata": {
        "id": "1BEkoKegP_QV",
        "colab_type": "code",
        "colab": {}
      },
      "source": [
        "# get all the h2s on the page and display each one\n",
        "content = main_content.find_all('h2')"
      ],
      "execution_count": 0,
      "outputs": []
    },
    {
      "cell_type": "code",
      "metadata": {
        "id": "TPzw0YW-QhY5",
        "colab_type": "code",
        "outputId": "f356ae50-7cb9-4571-8c00-1524f000fd1c",
        "colab": {
          "base_uri": "https://localhost:8080/",
          "height": 54
        }
      },
      "source": [
        "print(content)"
      ],
      "execution_count": 14,
      "outputs": [
        {
          "output_type": "stream",
          "text": [
            "[<h2 class=\"headline\">I love this!</h2>, <h2 class=\"headline\">I hate this so much!</h2>, <h2 class=\"headline\">The dumbest thing happened</h2>, <h2 class=\"headline\">This is a great workshop!</h2>, <h2 class=\"headline\">This workshop is horrible</h2>, <h2 class=\"headline\">I'm tired...</h2>, <h2 class=\"headline\">This thing is ok...</h2>]\n"
          ],
          "name": "stdout"
        }
      ]
    },
    {
      "cell_type": "code",
      "metadata": {
        "id": "UaM-Q15JQfRE",
        "colab_type": "code",
        "colab": {}
      },
      "source": [
        "# start a collection (list) for dataset \n",
        "dataset = []\n",
        "\n",
        "# go through each item in content\n",
        "for h2 in content:\n",
        "    # identify the text of that item\n",
        "    text = h2.text\n",
        "    # add that text to the dataset (list)\n",
        "    dataset.append(text)"
      ],
      "execution_count": 0,
      "outputs": []
    },
    {
      "cell_type": "code",
      "metadata": {
        "id": "R6ey0XfFeqeP",
        "colab_type": "code",
        "outputId": "0e91483e-faaa-470b-c1bf-4b38bc44fba7",
        "colab": {
          "base_uri": "https://localhost:8080/",
          "height": 54
        }
      },
      "source": [
        "# show me the whole list\n",
        "print(dataset)"
      ],
      "execution_count": 16,
      "outputs": [
        {
          "output_type": "stream",
          "text": [
            "['I love this!', 'I hate this so much!', 'The dumbest thing happened', 'This is a great workshop!', 'This workshop is horrible', \"I'm tired...\", 'This thing is ok...']\n"
          ],
          "name": "stdout"
        }
      ]
    },
    {
      "cell_type": "code",
      "metadata": {
        "id": "nMwxZcffQp-b",
        "colab_type": "code",
        "outputId": "524c361e-a1e9-49c7-d24e-8720974d1c7c",
        "colab": {
          "base_uri": "https://localhost:8080/",
          "height": 139
        }
      },
      "source": [
        "# show me each item\n",
        "for item in dataset:\n",
        "  print(item)"
      ],
      "execution_count": 17,
      "outputs": [
        {
          "output_type": "stream",
          "text": [
            "I love this!\n",
            "I hate this so much!\n",
            "The dumbest thing happened\n",
            "This is a great workshop!\n",
            "This workshop is horrible\n",
            "I'm tired...\n",
            "This thing is ok...\n"
          ],
          "name": "stdout"
        }
      ]
    },
    {
      "cell_type": "markdown",
      "metadata": {
        "id": "ZA6fONMFRwQ6",
        "colab_type": "text"
      },
      "source": [
        "## Natural Language Processing\n",
        "Import [NLTK](https://www.nltk.org/)(Natural Language Toolkit) python module\n",
        "\n",
        "Yet again we're only going to use just a tiny bit of NLTK, but if you're intertested in Natural Language Processing you should totally read more about it!!!"
      ]
    },
    {
      "cell_type": "code",
      "metadata": {
        "id": "ek-ovom_SH3m",
        "colab_type": "code",
        "outputId": "e8d3ca50-4f1b-4012-f767-865c4b37a7e1",
        "colab": {
          "base_uri": "https://localhost:8080/",
          "height": 52
        }
      },
      "source": [
        "import pandas as pd\n",
        "import nltk\n",
        "# basically an import (already known to ntlk)\n",
        "nltk.download('vader_lexicon')"
      ],
      "execution_count": 18,
      "outputs": [
        {
          "output_type": "stream",
          "text": [
            "[nltk_data] Downloading package vader_lexicon to /root/nltk_data...\n"
          ],
          "name": "stdout"
        },
        {
          "output_type": "execute_result",
          "data": {
            "text/plain": [
              "True"
            ]
          },
          "metadata": {
            "tags": []
          },
          "execution_count": 18
        }
      ]
    },
    {
      "cell_type": "code",
      "metadata": {
        "id": "gfjHMKGCl2Rj",
        "colab_type": "code",
        "outputId": "d571f906-f96a-4f5f-efc5-d7e489f77286",
        "colab": {
          "base_uri": "https://localhost:8080/",
          "height": 72
        }
      },
      "source": [
        "from nltk.sentiment.vader import SentimentIntensityAnalyzer\n",
        "\n",
        "def sentiment(sentence):\n",
        "    # id/tag the analyzer\n",
        "    sentiment = SentimentIntensityAnalyzer()\n",
        "    # make a score on the sentence\n",
        "    score = sentiment.polarity_scores(sentence)\n",
        "    # return the analyzer's score of the sentence\n",
        "    return score "
      ],
      "execution_count": 19,
      "outputs": [
        {
          "output_type": "stream",
          "text": [
            "/usr/local/lib/python3.6/dist-packages/nltk/twitter/__init__.py:20: UserWarning: The twython library has not been installed. Some functionality from the twitter package will not be available.\n",
            "  warnings.warn(\"The twython library has not been installed. \"\n"
          ],
          "name": "stderr"
        }
      ]
    },
    {
      "cell_type": "code",
      "metadata": {
        "id": "PkADv4rkSle_",
        "colab_type": "code",
        "outputId": "28fb61b2-b005-4d43-f338-61467d37dc3b",
        "colab": {
          "base_uri": "https://localhost:8080/",
          "height": 503
        }
      },
      "source": [
        "for headline in dataset:\n",
        "  print(\"\\n\")\n",
        "  print(headline)\n",
        "  print(sentiment(headline))"
      ],
      "execution_count": 20,
      "outputs": [
        {
          "output_type": "stream",
          "text": [
            "\n",
            "\n",
            "I love this!\n",
            "{'neg': 0.0, 'neu': 0.182, 'pos': 0.818, 'compound': 0.6696}\n",
            "\n",
            "\n",
            "I hate this so much!\n",
            "{'neg': 0.571, 'neu': 0.429, 'pos': 0.0, 'compound': -0.6114}\n",
            "\n",
            "\n",
            "The dumbest thing happened\n",
            "{'neg': 0.524, 'neu': 0.476, 'pos': 0.0, 'compound': -0.5106}\n",
            "\n",
            "\n",
            "This is a great workshop!\n",
            "{'neg': 0.0, 'neu': 0.406, 'pos': 0.594, 'compound': 0.6588}\n",
            "\n",
            "\n",
            "This workshop is horrible\n",
            "{'neg': 0.538, 'neu': 0.462, 'pos': 0.0, 'compound': -0.5423}\n",
            "\n",
            "\n",
            "I'm tired...\n",
            "{'neg': 0.0, 'neu': 1.0, 'pos': 0.0, 'compound': 0.0}\n",
            "\n",
            "\n",
            "This thing is ok...\n",
            "{'neg': 0.0, 'neu': 1.0, 'pos': 0.0, 'compound': 0.0}\n"
          ],
          "name": "stdout"
        }
      ]
    },
    {
      "cell_type": "markdown",
      "metadata": {
        "id": "1lSqDqmXAkBT",
        "colab_type": "text"
      },
      "source": [
        "### do that without all that work?\n",
        "- yes, it's doable\n",
        "  - for example, if we happened to have all the headlines in a list"
      ]
    },
    {
      "cell_type": "code",
      "metadata": {
        "id": "Tyv1ceEGR_iq",
        "colab_type": "code",
        "colab": {}
      },
      "source": [
        "# make a list of the headlines\n",
        "dataset = ['I love this', 'I hate this so much', \n",
        "           'The dumbest thing happened', 'This is a great workshop', \n",
        "           'This workshop is horrible', \"I'm tired\", 'This thing is ok']\n",
        "\n",
        "# import sentiment analyzer (just like above)\n",
        "from nltk.sentiment.vader import SentimentIntensityAnalyzer\n",
        "\n",
        "# define sentiment function (just like above)\n",
        "def sentiment(sentence):    \n",
        "    sentiment = SentimentIntensityAnalyzer()\n",
        "    score = sentiment.polarity_scores(sentence)\n",
        "    return score"
      ],
      "execution_count": 0,
      "outputs": []
    },
    {
      "cell_type": "code",
      "metadata": {
        "id": "6RlAL81kSjJo",
        "colab_type": "code",
        "outputId": "ff128c5b-e503-439d-c811-bcaf239e300c",
        "colab": {
          "base_uri": "https://localhost:8080/",
          "height": 503
        }
      },
      "source": [
        "# go through each 'headline' in the dataset\n",
        "for headline in dataset:\n",
        "  # print a blank line\n",
        "  print(\"\\n\")\n",
        "  # print the headline\n",
        "  print(headline)\n",
        "  # print the outcome of sentiment() function on that headline\n",
        "  print(sentiment(headline))"
      ],
      "execution_count": 22,
      "outputs": [
        {
          "output_type": "stream",
          "text": [
            "\n",
            "\n",
            "I love this\n",
            "{'neg': 0.0, 'neu': 0.192, 'pos': 0.808, 'compound': 0.6369}\n",
            "\n",
            "\n",
            "I hate this so much\n",
            "{'neg': 0.552, 'neu': 0.448, 'pos': 0.0, 'compound': -0.5719}\n",
            "\n",
            "\n",
            "The dumbest thing happened\n",
            "{'neg': 0.524, 'neu': 0.476, 'pos': 0.0, 'compound': -0.5106}\n",
            "\n",
            "\n",
            "This is a great workshop\n",
            "{'neg': 0.0, 'neu': 0.423, 'pos': 0.577, 'compound': 0.6249}\n",
            "\n",
            "\n",
            "This workshop is horrible\n",
            "{'neg': 0.538, 'neu': 0.462, 'pos': 0.0, 'compound': -0.5423}\n",
            "\n",
            "\n",
            "I'm tired\n",
            "{'neg': 0.744, 'neu': 0.256, 'pos': 0.0, 'compound': -0.4404}\n",
            "\n",
            "\n",
            "This thing is ok\n",
            "{'neg': 0.0, 'neu': 0.577, 'pos': 0.423, 'compound': 0.296}\n"
          ],
          "name": "stdout"
        }
      ]
    },
    {
      "cell_type": "markdown",
      "metadata": {
        "id": "hvpOgtQouO0H",
        "colab_type": "text"
      },
      "source": [
        "### Can the results look better?\n",
        "- Yes, lets use `Pandas` to make our output better"
      ]
    },
    {
      "cell_type": "code",
      "metadata": {
        "id": "1eVpAhUm_1_T",
        "colab_type": "code",
        "colab": {
          "base_uri": "https://localhost:8080/",
          "height": 54
        },
        "outputId": "609f94d9-1ec8-46c9-cc87-7210c64366dd"
      },
      "source": [
        "import pandas as pd\n",
        "\n",
        "# make a list of the results of sentiment on each \"headline\" in the dataset\n",
        "nltk_results = [sentiment(headline) for headline in dataset]\n",
        "\n",
        "# print out those results\n",
        "print(nltk_results)"
      ],
      "execution_count": 23,
      "outputs": [
        {
          "output_type": "stream",
          "text": [
            "[{'neg': 0.0, 'neu': 0.192, 'pos': 0.808, 'compound': 0.6369}, {'neg': 0.552, 'neu': 0.448, 'pos': 0.0, 'compound': -0.5719}, {'neg': 0.524, 'neu': 0.476, 'pos': 0.0, 'compound': -0.5106}, {'neg': 0.0, 'neu': 0.423, 'pos': 0.577, 'compound': 0.6249}, {'neg': 0.538, 'neu': 0.462, 'pos': 0.0, 'compound': -0.5423}, {'neg': 0.744, 'neu': 0.256, 'pos': 0.0, 'compound': -0.4404}, {'neg': 0.0, 'neu': 0.577, 'pos': 0.423, 'compound': 0.296}]\n"
          ],
          "name": "stdout"
        }
      ]
    },
    {
      "cell_type": "code",
      "metadata": {
        "id": "Q97bG3kBsP5e",
        "colab_type": "code",
        "outputId": "e0d30a73-7ad4-4170-b786-3ef8b37298d3",
        "colab": {
          "base_uri": "https://localhost:8080/",
          "height": 269
        }
      },
      "source": [
        "# make a pandas dataframe of the the results\n",
        "results_df = pd.DataFrame(nltk_results)\n",
        "# make a single column dataframe of the sentences & title column 'headline'\n",
        "text_df = pd.DataFrame(dataset, columns = ['headline'])\n",
        "\n",
        "# combine those two dataframes \n",
        "nltk_df = text_df.join(results_df)\n",
        "\n",
        "# display the combined dataframe\n",
        "nltk_df"
      ],
      "execution_count": 24,
      "outputs": [
        {
          "output_type": "execute_result",
          "data": {
            "text/html": [
              "<div>\n",
              "<style scoped>\n",
              "    .dataframe tbody tr th:only-of-type {\n",
              "        vertical-align: middle;\n",
              "    }\n",
              "\n",
              "    .dataframe tbody tr th {\n",
              "        vertical-align: top;\n",
              "    }\n",
              "\n",
              "    .dataframe thead th {\n",
              "        text-align: right;\n",
              "    }\n",
              "</style>\n",
              "<table border=\"1\" class=\"dataframe\">\n",
              "  <thead>\n",
              "    <tr style=\"text-align: right;\">\n",
              "      <th></th>\n",
              "      <th>headline</th>\n",
              "      <th>compound</th>\n",
              "      <th>neg</th>\n",
              "      <th>neu</th>\n",
              "      <th>pos</th>\n",
              "    </tr>\n",
              "  </thead>\n",
              "  <tbody>\n",
              "    <tr>\n",
              "      <th>0</th>\n",
              "      <td>I love this</td>\n",
              "      <td>0.6369</td>\n",
              "      <td>0.000</td>\n",
              "      <td>0.192</td>\n",
              "      <td>0.808</td>\n",
              "    </tr>\n",
              "    <tr>\n",
              "      <th>1</th>\n",
              "      <td>I hate this so much</td>\n",
              "      <td>-0.5719</td>\n",
              "      <td>0.552</td>\n",
              "      <td>0.448</td>\n",
              "      <td>0.000</td>\n",
              "    </tr>\n",
              "    <tr>\n",
              "      <th>2</th>\n",
              "      <td>The dumbest thing happened</td>\n",
              "      <td>-0.5106</td>\n",
              "      <td>0.524</td>\n",
              "      <td>0.476</td>\n",
              "      <td>0.000</td>\n",
              "    </tr>\n",
              "    <tr>\n",
              "      <th>3</th>\n",
              "      <td>This is a great workshop</td>\n",
              "      <td>0.6249</td>\n",
              "      <td>0.000</td>\n",
              "      <td>0.423</td>\n",
              "      <td>0.577</td>\n",
              "    </tr>\n",
              "    <tr>\n",
              "      <th>4</th>\n",
              "      <td>This workshop is horrible</td>\n",
              "      <td>-0.5423</td>\n",
              "      <td>0.538</td>\n",
              "      <td>0.462</td>\n",
              "      <td>0.000</td>\n",
              "    </tr>\n",
              "    <tr>\n",
              "      <th>5</th>\n",
              "      <td>I'm tired</td>\n",
              "      <td>-0.4404</td>\n",
              "      <td>0.744</td>\n",
              "      <td>0.256</td>\n",
              "      <td>0.000</td>\n",
              "    </tr>\n",
              "    <tr>\n",
              "      <th>6</th>\n",
              "      <td>This thing is ok</td>\n",
              "      <td>0.2960</td>\n",
              "      <td>0.000</td>\n",
              "      <td>0.577</td>\n",
              "      <td>0.423</td>\n",
              "    </tr>\n",
              "  </tbody>\n",
              "</table>\n",
              "</div>"
            ],
            "text/plain": [
              "                     headline  compound    neg    neu    pos\n",
              "0                 I love this    0.6369  0.000  0.192  0.808\n",
              "1         I hate this so much   -0.5719  0.552  0.448  0.000\n",
              "2  The dumbest thing happened   -0.5106  0.524  0.476  0.000\n",
              "3    This is a great workshop    0.6249  0.000  0.423  0.577\n",
              "4   This workshop is horrible   -0.5423  0.538  0.462  0.000\n",
              "5                   I'm tired   -0.4404  0.744  0.256  0.000\n",
              "6            This thing is ok    0.2960  0.000  0.577  0.423"
            ]
          },
          "metadata": {
            "tags": []
          },
          "execution_count": 24
        }
      ]
    },
    {
      "cell_type": "markdown",
      "metadata": {
        "id": "clvmPOkjC92i",
        "colab_type": "text"
      },
      "source": [
        "#### Let's plot out those results"
      ]
    },
    {
      "cell_type": "code",
      "metadata": {
        "id": "IAXxdbSTro09",
        "colab_type": "code",
        "outputId": "2728c5db-cd45-4b47-e6d7-9ae5346d9b4d",
        "colab": {
          "base_uri": "https://localhost:8080/",
          "height": 420
        }
      },
      "source": [
        "nltk_df.plot(kind='bar', x='headline', y='neg');"
      ],
      "execution_count": 25,
      "outputs": [
        {
          "output_type": "display_data",
          "data": {
            "image/png": "[encoded data removed]",
            "text/plain": [
              "<Figure size 432x288 with 1 Axes>"
            ]
          },
          "metadata": {
            "tags": []
          }
        }
      ]
    },
    {
      "cell_type": "code",
      "metadata": {
        "id": "7MKxLI6OS9jk",
        "colab_type": "code",
        "outputId": "8b775814-f15a-4d2e-e673-3514f7e53d72",
        "colab": {
          "base_uri": "https://localhost:8080/",
          "height": 420
        }
      },
      "source": [
        "nltk_df.plot(kind='bar', x = 'headline', y = 'neu');"
      ],
      "execution_count": 26,
      "outputs": [
        {
          "output_type": "display_data",
          "data": {
            "image/png": "[encoded data removed]",
            "text/plain": [
              "<Figure size 432x288 with 1 Axes>"
            ]
          },
          "metadata": {
            "tags": []
          }
        }
      ]
    },
    {
      "cell_type": "code",
      "metadata": {
        "id": "tk345Nk6S-IY",
        "colab_type": "code",
        "outputId": "e07b788f-58c0-4197-842c-5a8315483fdf",
        "colab": {
          "base_uri": "https://localhost:8080/",
          "height": 420
        }
      },
      "source": [
        "nltk_df.plot(kind='bar', x = 'headline', y = 'pos');"
      ],
      "execution_count": 27,
      "outputs": [
        {
          "output_type": "display_data",
          "data": {
            "image/png": "[encoded data removed]",
            "text/plain": [
              "<Figure size 432x288 with 1 Axes>"
            ]
          },
          "metadata": {
            "tags": []
          }
        }
      ]
    },
    {
      "cell_type": "markdown",
      "metadata": {
        "id": "0_sKYH3Vv5mh",
        "colab_type": "text"
      },
      "source": [
        "# Back to GitHub repo\n",
        "\n",
        "https://github.com/gumdropsteve/intro-data-science/tree/master/intro_machine_learning\n",
        "  "
      ]
    },
    {
      "cell_type": "code",
      "metadata": {
        "id": "7fB2ieBIYTjt",
        "colab_type": "code",
        "colab": {}
      },
      "source": [
        ""
      ],
      "execution_count": 0,
      "outputs": []
    }
  ]
}